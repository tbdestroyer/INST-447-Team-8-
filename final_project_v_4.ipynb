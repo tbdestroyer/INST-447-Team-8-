{
 "cells": [
  {
   "cell_type": "markdown",
   "id": "56a66ae9",
   "metadata": {
    "scrolled": true
   },
   "source": [
    "## INST 447\n",
    "## Final Project: Introduction\n",
    "\n",
    "\n",
    "### The project is a comprehensive analysis of redevelopment that requires a building permit in Washington DC\n",
    "\n",
    "By doing so, we hope to gain valuable insights into redevelopment trends over time, such as\n",
    "which areas are experiencing faster or slower redevelopment, and whether there are any\n",
    "correlations between redevelopment and factors such as demographics and household income.\n",
    "\n",
    "We are also interested in identifying any prominent builders who are responsible for a\n",
    "significant portion of the redevelopment permits.\n",
    "\n",
    "The results of this analysis can be of great use to developers, the D.C. government for planning\n",
    "purposes, and people who live in or plan to move to Washington D.C. Additionally, we believe it\n",
    "would be interesting to examine changes in redevelopment and infill during the COVID-19\n",
    "pandemic, from 2020 through 2022, to better understand the impact of the pandemic on\n",
    "redevelopment activities in the area\n"
   ]
  },
  {
   "cell_type": "markdown",
   "id": "e6459eb0",
   "metadata": {},
   "source": [
    "# Import libraries and files:\n",
    "\n",
    "# Files intro:\n",
    " * Building_Permits: \n",
    "    - Each file presents a year, which records each permit applicant construction with their type of permit and construct details\n",
    " * Census: \n",
    "   - Census Tracts of DC area in 2010 and 2020 sepreratly. It includes detailed information of each race of population in age raanges \n",
    "     and gross income with tract ID, which can connect with Ward dataset\n",
    " * Ward:\n",
    "   - A dataset includes matched ward id with tract id"
   ]
  },
  {
   "cell_type": "code",
   "execution_count": 1,
   "id": "09d1692c",
   "metadata": {},
   "outputs": [],
   "source": [
    "import os\n",
    "import pandas as pd\n",
    "import matplotlib.pyplot as plt\n",
    "import numpy as np\n",
    "import seaborn as sns\n",
    "from datetime import datetime"
   ]
  },
  {
   "cell_type": "markdown",
   "id": "0d6eff69",
   "metadata": {},
   "source": [
    "Datasets are in .csv files"
   ]
  },
  {
   "cell_type": "code",
   "execution_count": 2,
   "id": "b79d6e05",
   "metadata": {
    "scrolled": false
   },
   "outputs": [
    {
     "data": {
      "text/plain": [
       "['Building_Permits_in_2010.csv',\n",
       " 'Building_Permits_in_2011.csv',\n",
       " 'Building_Permits_in_2012.csv',\n",
       " 'Building_Permits_in_2013.csv',\n",
       " 'Building_Permits_in_2014.csv',\n",
       " 'Building_Permits_in_2015.csv',\n",
       " 'Building_Permits_in_2016.csv',\n",
       " 'Building_Permits_in_2017.csv',\n",
       " 'Building_Permits_in_2018.csv',\n",
       " 'Building_Permits_in_2019.csv',\n",
       " 'Building_Permits_in_2020.csv',\n",
       " 'Building_Permits_in_2021.csv',\n",
       " 'Building_Permits_in_2022.csv',\n",
       " 'Building_Permits_in_2023.csv']"
      ]
     },
     "execution_count": 2,
     "metadata": {},
     "output_type": "execute_result"
    }
   ],
   "source": [
    "filenames = os.listdir('./permits') # list of all files in this directory\n",
    "filenames"
   ]
  },
  {
   "cell_type": "code",
   "execution_count": 3,
   "id": "b5a4615d",
   "metadata": {},
   "outputs": [
    {
     "data": {
      "text/plain": [
       "['Census_Tracts_in_2010.csv', 'Census_Tracts_in_2020.csv']"
      ]
     },
     "execution_count": 3,
     "metadata": {},
     "output_type": "execute_result"
    }
   ],
   "source": [
    "filenames = os.listdir('./census') # list of all files in this directory\n",
    "filenames"
   ]
  },
  {
   "cell_type": "code",
   "execution_count": 4,
   "id": "09c8846e",
   "metadata": {},
   "outputs": [
    {
     "data": {
      "text/plain": [
       "['tract_ward_map_2010.csv', 'tract_ward_map_2020.csv']"
      ]
     },
     "execution_count": 4,
     "metadata": {},
     "output_type": "execute_result"
    }
   ],
   "source": [
    "filenames = os.listdir('./helper') # list of all files in this directory\n",
    "filenames"
   ]
  },
  {
   "cell_type": "markdown",
   "id": "8b784141",
   "metadata": {},
   "source": [
    "# Method & Reprocessing: data cleaning\n"
   ]
  },
  {
   "cell_type": "markdown",
   "id": "5d8b5ce1",
   "metadata": {},
   "source": [
    "####  Clean and prepare 2010 step by step here, 2011 through 2022 datasets are done in a loop by using a dictionary of dataframes"
   ]
  },
  {
   "cell_type": "code",
   "execution_count": 5,
   "id": "d7ebab16",
   "metadata": {
    "scrolled": false
   },
   "outputs": [
    {
     "name": "stdout",
     "output_type": "stream",
     "text": [
      "<class 'pandas.core.frame.DataFrame'>\n",
      "RangeIndex: 33455 entries, 0 to 33454\n",
      "Data columns (total 44 columns):\n",
      " #   Column                       Non-Null Count  Dtype  \n",
      "---  ------                       --------------  -----  \n",
      " 0   X                            33455 non-null  float64\n",
      " 1   Y                            33455 non-null  float64\n",
      " 2   OBJECTID                     33455 non-null  int64  \n",
      " 3   DCRAINTERNALNUMBER           33455 non-null  int64  \n",
      " 4   ISSUE_DATE                   33455 non-null  object \n",
      " 5   PERMIT_ID                    33455 non-null  object \n",
      " 6   PERMIT_TYPE_NAME             33455 non-null  object \n",
      " 7   PERMIT_SUBTYPE_NAME          32567 non-null  object \n",
      " 8   PERMIT_CATEGORY_NAME         1090 non-null   object \n",
      " 9   APPLICATION_STATUS_NAME      33455 non-null  object \n",
      " 10  FULL_ADDRESS                 33455 non-null  object \n",
      " 11  DESC_OF_WORK                 18342 non-null  object \n",
      " 12  SSL                          29831 non-null  object \n",
      " 13  ZONING                       25282 non-null  object \n",
      " 14  PERMIT_APPLICANT             30191 non-null  object \n",
      " 15  FEE_TYPE                     28839 non-null  object \n",
      " 16  FEES_PAID                    33455 non-null  int64  \n",
      " 17  OWNER_NAME                   31363 non-null  object \n",
      " 18  LASTMODIFIEDDATE             33455 non-null  object \n",
      " 19  CITY                         0 non-null      float64\n",
      " 20  STATE                        0 non-null      float64\n",
      " 21  LATITUDE                     33455 non-null  float64\n",
      " 22  LONGITUDE                    33455 non-null  float64\n",
      " 23  XCOORD                       33455 non-null  float64\n",
      " 24  YCOORD                       33455 non-null  float64\n",
      " 25  ZIPCODE                      0 non-null      float64\n",
      " 26  MARADDRESSREPOSITORYID       33455 non-null  int64  \n",
      " 27  DCSTATADDRESSKEY             0 non-null      float64\n",
      " 28  DCSTATLOCATIONKEY            0 non-null      float64\n",
      " 29  WARD                         33455 non-null  int64  \n",
      " 30  ANC                          33455 non-null  object \n",
      " 31  SMD                          33455 non-null  object \n",
      " 32  DISTRICT                     33455 non-null  object \n",
      " 33  PSA                          33455 non-null  int64  \n",
      " 34  NEIGHBORHOODCLUSTER          33455 non-null  object \n",
      " 35  HOTSPOT2006NAME              0 non-null      float64\n",
      " 36  HOTSPOT2005NAME              0 non-null      float64\n",
      " 37  HOTSPOT2004NAME              0 non-null      float64\n",
      " 38  BUSINESSIMPROVEMENTDISTRICT  8505 non-null   object \n",
      " 39  GLOBALID                     33455 non-null  object \n",
      " 40  CREATED_USER                 33455 non-null  object \n",
      " 41  CREATED_DATE                 33455 non-null  object \n",
      " 42  LAST_EDITED_USER             33455 non-null  object \n",
      " 43  LAST_EDITED_DATE             33455 non-null  object \n",
      "dtypes: float64(14), int64(6), object(24)\n",
      "memory usage: 11.2+ MB\n"
     ]
    }
   ],
   "source": [
    "permits_df_2010 = pd.read_csv('./permits/Building_Permits_in_2010.csv',low_memory=False)\n",
    "permits_df_2010.info()"
   ]
  },
  {
   "cell_type": "code",
   "execution_count": 6,
   "id": "0b5573fd",
   "metadata": {
    "scrolled": false
   },
   "outputs": [],
   "source": [
    "#drop columns other than these\n",
    "permits_df_2010 = permits_df_2010.drop(columns=permits_df_2010.columns.difference(['ISSUE_DATE','PERMIT_TYPE_NAME',\n",
    "                'PERMIT_SUBTYPE_NAME','APPLICATION_STATUS_NAME','WARD','PERMIT_APPLICANT']))"
   ]
  },
  {
   "cell_type": "code",
   "execution_count": 7,
   "id": "5e0a6843",
   "metadata": {
    "scrolled": false
   },
   "outputs": [
    {
     "name": "stdout",
     "output_type": "stream",
     "text": [
      "<class 'pandas.core.frame.DataFrame'>\n",
      "RangeIndex: 33455 entries, 0 to 33454\n",
      "Data columns (total 6 columns):\n",
      " #   Column                   Non-Null Count  Dtype \n",
      "---  ------                   --------------  ----- \n",
      " 0   ISSUE_DATE               33455 non-null  object\n",
      " 1   PERMIT_TYPE_NAME         33455 non-null  object\n",
      " 2   PERMIT_SUBTYPE_NAME      32567 non-null  object\n",
      " 3   APPLICATION_STATUS_NAME  33455 non-null  object\n",
      " 4   PERMIT_APPLICANT         30191 non-null  object\n",
      " 5   WARD                     33455 non-null  int64 \n",
      "dtypes: int64(1), object(5)\n",
      "memory usage: 1.5+ MB\n"
     ]
    }
   ],
   "source": [
    "permits_df_2010.info()"
   ]
  },
  {
   "cell_type": "code",
   "execution_count": 8,
   "id": "4e400505",
   "metadata": {},
   "outputs": [
    {
     "data": {
      "text/plain": [
       "0        2010/05/27 12:56:42+00\n",
       "1        2010/08/20 12:18:09+00\n",
       "2        2010/07/07 15:50:23+00\n",
       "3        2010/01/06 05:00:00+00\n",
       "4        2010/01/06 05:00:00+00\n",
       "                  ...          \n",
       "33450    2010/06/30 04:00:00+00\n",
       "33451    2010/07/27 04:00:00+00\n",
       "33452    2010/11/02 04:00:00+00\n",
       "33453    2010/04/22 04:00:00+00\n",
       "33454    2010/04/29 04:00:00+00\n",
       "Name: ISSUE_DATE, Length: 33455, dtype: object"
      ]
     },
     "execution_count": 8,
     "metadata": {},
     "output_type": "execute_result"
    }
   ],
   "source": [
    "permits_df_2010['ISSUE_DATE']"
   ]
  },
  {
   "cell_type": "code",
   "execution_count": 9,
   "id": "d3070e71",
   "metadata": {
    "scrolled": false
   },
   "outputs": [
    {
     "data": {
      "text/html": [
       "<div>\n",
       "<style scoped>\n",
       "    .dataframe tbody tr th:only-of-type {\n",
       "        vertical-align: middle;\n",
       "    }\n",
       "\n",
       "    .dataframe tbody tr th {\n",
       "        vertical-align: top;\n",
       "    }\n",
       "\n",
       "    .dataframe thead th {\n",
       "        text-align: right;\n",
       "    }\n",
       "</style>\n",
       "<table border=\"1\" class=\"dataframe\">\n",
       "  <thead>\n",
       "    <tr style=\"text-align: right;\">\n",
       "      <th></th>\n",
       "      <th>ISSUE_DATE</th>\n",
       "      <th>PERMIT_TYPE_NAME</th>\n",
       "      <th>PERMIT_SUBTYPE_NAME</th>\n",
       "      <th>APPLICATION_STATUS_NAME</th>\n",
       "      <th>PERMIT_APPLICANT</th>\n",
       "      <th>WARD</th>\n",
       "    </tr>\n",
       "  </thead>\n",
       "  <tbody>\n",
       "    <tr>\n",
       "      <th>0</th>\n",
       "      <td>2010-01-25</td>\n",
       "      <td>CONSTRUCTION</td>\n",
       "      <td>ADDITION</td>\n",
       "      <td>COMPLETED</td>\n",
       "      <td>ASHLEY  POOLE</td>\n",
       "      <td>6</td>\n",
       "    </tr>\n",
       "    <tr>\n",
       "      <th>1</th>\n",
       "      <td>2010-02-04</td>\n",
       "      <td>CONSTRUCTION</td>\n",
       "      <td>ADDITION</td>\n",
       "      <td>COMPLETED</td>\n",
       "      <td>SANDRA  JONES</td>\n",
       "      <td>8</td>\n",
       "    </tr>\n",
       "    <tr>\n",
       "      <th>2</th>\n",
       "      <td>2010-02-03</td>\n",
       "      <td>CONSTRUCTION</td>\n",
       "      <td>ADDITION</td>\n",
       "      <td>COMPLETED</td>\n",
       "      <td>MATTHEW J GRACE</td>\n",
       "      <td>5</td>\n",
       "    </tr>\n",
       "    <tr>\n",
       "      <th>3</th>\n",
       "      <td>2010-02-01</td>\n",
       "      <td>CONSTRUCTION</td>\n",
       "      <td>ADDITION</td>\n",
       "      <td>COMPLETED</td>\n",
       "      <td>CARLOS  MADERO</td>\n",
       "      <td>3</td>\n",
       "    </tr>\n",
       "    <tr>\n",
       "      <th>4</th>\n",
       "      <td>2010-02-09</td>\n",
       "      <td>CONSTRUCTION</td>\n",
       "      <td>ADDITION</td>\n",
       "      <td>COMPLETED</td>\n",
       "      <td>TRACY  HAUGEN</td>\n",
       "      <td>3</td>\n",
       "    </tr>\n",
       "    <tr>\n",
       "      <th>...</th>\n",
       "      <td>...</td>\n",
       "      <td>...</td>\n",
       "      <td>...</td>\n",
       "      <td>...</td>\n",
       "      <td>...</td>\n",
       "      <td>...</td>\n",
       "    </tr>\n",
       "    <tr>\n",
       "      <th>571</th>\n",
       "      <td>2010-08-20</td>\n",
       "      <td>CONSTRUCTION</td>\n",
       "      <td>NEW BUILDING</td>\n",
       "      <td>PERMIT ISSUED</td>\n",
       "      <td>DAVID  FONTANA</td>\n",
       "      <td>8</td>\n",
       "    </tr>\n",
       "    <tr>\n",
       "      <th>572</th>\n",
       "      <td>2010-08-03</td>\n",
       "      <td>CONSTRUCTION</td>\n",
       "      <td>ADDITION</td>\n",
       "      <td>PERMIT ISSUED</td>\n",
       "      <td>KEN  MARZULLO</td>\n",
       "      <td>4</td>\n",
       "    </tr>\n",
       "    <tr>\n",
       "      <th>573</th>\n",
       "      <td>2010-05-12</td>\n",
       "      <td>CONSTRUCTION</td>\n",
       "      <td>ADDITION</td>\n",
       "      <td>PERMIT ISSUED</td>\n",
       "      <td>ROBERT  WALKER</td>\n",
       "      <td>1</td>\n",
       "    </tr>\n",
       "    <tr>\n",
       "      <th>574</th>\n",
       "      <td>2010-10-21</td>\n",
       "      <td>CONSTRUCTION</td>\n",
       "      <td>ADDITION</td>\n",
       "      <td>COMPLETED</td>\n",
       "      <td>KEVIN  MILLOY</td>\n",
       "      <td>2</td>\n",
       "    </tr>\n",
       "    <tr>\n",
       "      <th>575</th>\n",
       "      <td>2010-11-12</td>\n",
       "      <td>CONSTRUCTION</td>\n",
       "      <td>NEW BUILDING</td>\n",
       "      <td>COMPLETED</td>\n",
       "      <td>BOHLER  BOHLER</td>\n",
       "      <td>5</td>\n",
       "    </tr>\n",
       "  </tbody>\n",
       "</table>\n",
       "<p>576 rows × 6 columns</p>\n",
       "</div>"
      ],
      "text/plain": [
       "     ISSUE_DATE PERMIT_TYPE_NAME PERMIT_SUBTYPE_NAME APPLICATION_STATUS_NAME  \\\n",
       "0    2010-01-25     CONSTRUCTION            ADDITION               COMPLETED   \n",
       "1    2010-02-04     CONSTRUCTION            ADDITION               COMPLETED   \n",
       "2    2010-02-03     CONSTRUCTION            ADDITION               COMPLETED   \n",
       "3    2010-02-01     CONSTRUCTION            ADDITION               COMPLETED   \n",
       "4    2010-02-09     CONSTRUCTION            ADDITION               COMPLETED   \n",
       "..          ...              ...                 ...                     ...   \n",
       "571  2010-08-20     CONSTRUCTION        NEW BUILDING           PERMIT ISSUED   \n",
       "572  2010-08-03     CONSTRUCTION            ADDITION           PERMIT ISSUED   \n",
       "573  2010-05-12     CONSTRUCTION            ADDITION           PERMIT ISSUED   \n",
       "574  2010-10-21     CONSTRUCTION            ADDITION               COMPLETED   \n",
       "575  2010-11-12     CONSTRUCTION        NEW BUILDING               COMPLETED   \n",
       "\n",
       "    PERMIT_APPLICANT  WARD  \n",
       "0      ASHLEY  POOLE     6  \n",
       "1      SANDRA  JONES     8  \n",
       "2    MATTHEW J GRACE     5  \n",
       "3     CARLOS  MADERO     3  \n",
       "4      TRACY  HAUGEN     3  \n",
       "..               ...   ...  \n",
       "571   DAVID  FONTANA     8  \n",
       "572    KEN  MARZULLO     4  \n",
       "573   ROBERT  WALKER     1  \n",
       "574    KEVIN  MILLOY     2  \n",
       "575   BOHLER  BOHLER     5  \n",
       "\n",
       "[576 rows x 6 columns]"
      ]
     },
     "execution_count": 9,
     "metadata": {},
     "output_type": "execute_result"
    }
   ],
   "source": [
    "#select only permit types with construction and subtype with addition and new buildiings\n",
    "BM1 = permits_df_2010.PERMIT_TYPE_NAME == 'CONSTRUCTION'\n",
    "BM2 = (permits_df_2010.PERMIT_SUBTYPE_NAME == 'NEW BUILDING') | (permits_df_2010.PERMIT_SUBTYPE_NAME == 'ADDITION')\n",
    "permits_df_2010 = permits_df_2010[BM1 & (BM2)]\n",
    "permits_df_2010.reset_index(drop=True,inplace=True)\n",
    "\n",
    "#Convert the ISSUE_DATE column values to datetime object and keep only the year-month-day\n",
    "permits_df_2010['ISSUE_DATE'] = pd.to_datetime(permits_df_2010['ISSUE_DATE'])\n",
    "permits_df_2010['ISSUE_DATE'] = permits_df_2010['ISSUE_DATE'].dt.strftime('%Y-%m-%d')\n",
    "permits_df_2010"
   ]
  },
  {
   "cell_type": "code",
   "execution_count": 10,
   "id": "c241dca7",
   "metadata": {
    "scrolled": false
   },
   "outputs": [
    {
     "name": "stdout",
     "output_type": "stream",
     "text": [
      "<class 'pandas.core.frame.DataFrame'>\n",
      "RangeIndex: 576 entries, 0 to 575\n",
      "Data columns (total 6 columns):\n",
      " #   Column                   Non-Null Count  Dtype \n",
      "---  ------                   --------------  ----- \n",
      " 0   ISSUE_DATE               576 non-null    object\n",
      " 1   PERMIT_TYPE_NAME         576 non-null    object\n",
      " 2   PERMIT_SUBTYPE_NAME      576 non-null    object\n",
      " 3   APPLICATION_STATUS_NAME  576 non-null    object\n",
      " 4   PERMIT_APPLICANT         561 non-null    object\n",
      " 5   WARD                     576 non-null    int64 \n",
      "dtypes: int64(1), object(5)\n",
      "memory usage: 27.1+ KB\n"
     ]
    }
   ],
   "source": [
    "permits_df_2010.info()"
   ]
  },
  {
   "cell_type": "markdown",
   "id": "01e0eba6",
   "metadata": {},
   "source": [
    "We have some missing values in the PERMIT_APPLICANT. We use PERMIT_APPLICANT for analyzing the builders that had the most permits and construction prpojects.\n",
    "\n",
    "Drop NaN fields"
   ]
  },
  {
   "cell_type": "code",
   "execution_count": 11,
   "id": "7998d4de",
   "metadata": {
    "scrolled": false
   },
   "outputs": [
    {
     "name": "stdout",
     "output_type": "stream",
     "text": [
      "<class 'pandas.core.frame.DataFrame'>\n",
      "RangeIndex: 561 entries, 0 to 560\n",
      "Data columns (total 6 columns):\n",
      " #   Column                   Non-Null Count  Dtype \n",
      "---  ------                   --------------  ----- \n",
      " 0   ISSUE_DATE               561 non-null    object\n",
      " 1   PERMIT_TYPE_NAME         561 non-null    object\n",
      " 2   PERMIT_SUBTYPE_NAME      561 non-null    object\n",
      " 3   APPLICATION_STATUS_NAME  561 non-null    object\n",
      " 4   PERMIT_APPLICANT         561 non-null    object\n",
      " 5   WARD                     561 non-null    int64 \n",
      "dtypes: int64(1), object(5)\n",
      "memory usage: 26.4+ KB\n"
     ]
    }
   ],
   "source": [
    "permits_df_2010 = permits_df_2010.dropna()\n",
    "permits_df_2010 = permits_df_2010.reset_index(drop=True)\n",
    "permits_df_2010.info()"
   ]
  },
  {
   "cell_type": "markdown",
   "id": "b53f008c",
   "metadata": {},
   "source": [
    "####  Cleaning and preparing the datasets from 2010 through 2022 are done in a loop by using a dictionary of dataframes. 2010 above was for illustrating the steps but we can do this in a loop for each file rather than one by one."
   ]
  },
  {
   "cell_type": "code",
   "execution_count": 12,
   "id": "08f39ce0",
   "metadata": {
    "scrolled": false
   },
   "outputs": [],
   "source": [
    "#permit file names\n",
    "permit_df_names = ['2010','2011','2012','2013','2014','2015','2016','2017','2018','2019','2020','2021','2022']\n",
    "\n",
    "#create an empty dictionary to store permit dataframes\n",
    "permit_df_dict={}\n",
    "\n",
    "#for each file name, read the CSV file into a dataframe and put into the dictionary\n",
    "for n in permit_df_names:\n",
    "    permit_df_dict[n] = pd.read_csv('./permits/Building_Permits_in_'+ n + '.csv',low_memory=False)\n",
    "    #drop unnecessary columns\n",
    "    permit_df_dict[n] = permit_df_dict[n].drop(columns = permit_df_dict[n].columns.difference(['ISSUE_DATE','PERMIT_TYPE_NAME',\n",
    "                'PERMIT_SUBTYPE_NAME','APPLICATION_STATUS_NAME','WARD','PERMIT_APPLICANT']))\n",
    "    \n",
    "    #Remove rows with permits other than new buildings and additions\n",
    "    BM1 = permit_df_dict[n].PERMIT_TYPE_NAME == 'CONSTRUCTION'\n",
    "    BM2 = (permit_df_dict[n].PERMIT_SUBTYPE_NAME == 'NEW BUILDING') | (permit_df_dict[n].PERMIT_SUBTYPE_NAME == 'ADDITION')\n",
    "    permit_df_dict[n] = permit_df_dict[n][BM1 & (BM2)]\n",
    "    \n",
    "    #reset the index values\n",
    "    permit_df_dict[n] = permit_df_dict[n].reset_index(drop=True)\n",
    "    \n",
    "    permit_df_dict[n] = permit_df_dict[n].dropna()\n",
    "    permit_df_dict[n] = permit_df_dict[n].reset_index(drop=True)\n",
    "\n",
    "    #Convert the issue date to datetime and keep only the year-month-day\n",
    "    permit_df_dict[n]['ISSUE_DATE'] = pd.to_datetime(permit_df_dict[n]['ISSUE_DATE'])\n",
    "    permit_df_dict[n]['ISSUE_DATE'] = permit_df_dict[n]['ISSUE_DATE'].dt.strftime('%Y-%m-%d')\n",
    "    permit_df_dict[n]['ISSUE_DATE'] = pd.to_datetime(permit_df_dict[n]['ISSUE_DATE'])\n",
    "\n",
    "# We have the cleaned dataframe permit_df_dict['2011'], permit_df_dict['2012'] ....permit_df_dict['2022']"
   ]
  },
  {
   "cell_type": "code",
   "execution_count": 13,
   "id": "45d01df3",
   "metadata": {
    "scrolled": false
   },
   "outputs": [
    {
     "name": "stdout",
     "output_type": "stream",
     "text": [
      "<class 'pandas.core.frame.DataFrame'>\n",
      "RangeIndex: 561 entries, 0 to 560\n",
      "Data columns (total 6 columns):\n",
      " #   Column                   Non-Null Count  Dtype         \n",
      "---  ------                   --------------  -----         \n",
      " 0   ISSUE_DATE               561 non-null    datetime64[ns]\n",
      " 1   PERMIT_TYPE_NAME         561 non-null    object        \n",
      " 2   PERMIT_SUBTYPE_NAME      561 non-null    object        \n",
      " 3   APPLICATION_STATUS_NAME  561 non-null    object        \n",
      " 4   PERMIT_APPLICANT         561 non-null    object        \n",
      " 5   WARD                     561 non-null    int64         \n",
      "dtypes: datetime64[ns](1), int64(1), object(4)\n",
      "memory usage: 26.4+ KB\n"
     ]
    }
   ],
   "source": [
    "permit_df_dict['2010'].info() # Check if there are any columns with missing values"
   ]
  },
  {
   "cell_type": "markdown",
   "id": "2a4854c1",
   "metadata": {},
   "source": [
    "### Read and prepare Census dataset 2010"
   ]
  },
  {
   "cell_type": "code",
   "execution_count": 14,
   "id": "29f7c0f9",
   "metadata": {
    "scrolled": false
   },
   "outputs": [],
   "source": [
    "#drop columns other than these\n",
    "census_df_2010 = pd.read_csv('./census/Census_Tracts_in_2010.csv')\n",
    "census_df_2010 = census_df_2010.drop(columns=census_df_2010.columns.difference(['TRACT','P0010003',\n",
    "                'P0010004','P0010005','P0010006','P0010007','P0010008','P0020002','H0010001','H0010002']))\n",
    "#rename columns to intuitive names\n",
    "census_df_2010.columns = ['TRACT','white_pop','black_pop','ind_alk_pop','asian_pop',\n",
    "                           'haw_isl_pop','other_pop','tot_hisp_pop','housing_units_total','occupied_housing_units']"
   ]
  },
  {
   "cell_type": "code",
   "execution_count": 15,
   "id": "128b3c6c",
   "metadata": {
    "scrolled": false
   },
   "outputs": [
    {
     "data": {
      "text/html": [
       "<div>\n",
       "<style scoped>\n",
       "    .dataframe tbody tr th:only-of-type {\n",
       "        vertical-align: middle;\n",
       "    }\n",
       "\n",
       "    .dataframe tbody tr th {\n",
       "        vertical-align: top;\n",
       "    }\n",
       "\n",
       "    .dataframe thead th {\n",
       "        text-align: right;\n",
       "    }\n",
       "</style>\n",
       "<table border=\"1\" class=\"dataframe\">\n",
       "  <thead>\n",
       "    <tr style=\"text-align: right;\">\n",
       "      <th></th>\n",
       "      <th>TRACT</th>\n",
       "      <th>white_pop</th>\n",
       "      <th>black_pop</th>\n",
       "      <th>ind_alk_pop</th>\n",
       "      <th>asian_pop</th>\n",
       "      <th>haw_isl_pop</th>\n",
       "      <th>other_pop</th>\n",
       "      <th>tot_hisp_pop</th>\n",
       "      <th>housing_units_total</th>\n",
       "      <th>occupied_housing_units</th>\n",
       "    </tr>\n",
       "  </thead>\n",
       "  <tbody>\n",
       "    <tr>\n",
       "      <th>0</th>\n",
       "      <td>2102</td>\n",
       "      <td>398</td>\n",
       "      <td>3583</td>\n",
       "      <td>15</td>\n",
       "      <td>27</td>\n",
       "      <td>0</td>\n",
       "      <td>500</td>\n",
       "      <td>724</td>\n",
       "      <td>2173</td>\n",
       "      <td>1900</td>\n",
       "    </tr>\n",
       "    <tr>\n",
       "      <th>1</th>\n",
       "      <td>9508</td>\n",
       "      <td>257</td>\n",
       "      <td>2821</td>\n",
       "      <td>11</td>\n",
       "      <td>30</td>\n",
       "      <td>0</td>\n",
       "      <td>121</td>\n",
       "      <td>235</td>\n",
       "      <td>1742</td>\n",
       "      <td>1578</td>\n",
       "    </tr>\n",
       "    <tr>\n",
       "      <th>2</th>\n",
       "      <td>1200</td>\n",
       "      <td>4073</td>\n",
       "      <td>272</td>\n",
       "      <td>18</td>\n",
       "      <td>388</td>\n",
       "      <td>3</td>\n",
       "      <td>96</td>\n",
       "      <td>399</td>\n",
       "      <td>2633</td>\n",
       "      <td>2516</td>\n",
       "    </tr>\n",
       "    <tr>\n",
       "      <th>3</th>\n",
       "      <td>9503</td>\n",
       "      <td>432</td>\n",
       "      <td>2301</td>\n",
       "      <td>4</td>\n",
       "      <td>41</td>\n",
       "      <td>0</td>\n",
       "      <td>32</td>\n",
       "      <td>113</td>\n",
       "      <td>1256</td>\n",
       "      <td>1200</td>\n",
       "    </tr>\n",
       "    <tr>\n",
       "      <th>4</th>\n",
       "      <td>9501</td>\n",
       "      <td>2128</td>\n",
       "      <td>2827</td>\n",
       "      <td>36</td>\n",
       "      <td>108</td>\n",
       "      <td>10</td>\n",
       "      <td>486</td>\n",
       "      <td>831</td>\n",
       "      <td>1954</td>\n",
       "      <td>1802</td>\n",
       "    </tr>\n",
       "    <tr>\n",
       "      <th>...</th>\n",
       "      <td>...</td>\n",
       "      <td>...</td>\n",
       "      <td>...</td>\n",
       "      <td>...</td>\n",
       "      <td>...</td>\n",
       "      <td>...</td>\n",
       "      <td>...</td>\n",
       "      <td>...</td>\n",
       "      <td>...</td>\n",
       "      <td>...</td>\n",
       "    </tr>\n",
       "    <tr>\n",
       "      <th>174</th>\n",
       "      <td>9801</td>\n",
       "      <td>16</td>\n",
       "      <td>1526</td>\n",
       "      <td>3</td>\n",
       "      <td>5</td>\n",
       "      <td>0</td>\n",
       "      <td>4</td>\n",
       "      <td>26</td>\n",
       "      <td>766</td>\n",
       "      <td>677</td>\n",
       "    </tr>\n",
       "    <tr>\n",
       "      <th>175</th>\n",
       "      <td>9802</td>\n",
       "      <td>11</td>\n",
       "      <td>1665</td>\n",
       "      <td>1</td>\n",
       "      <td>0</td>\n",
       "      <td>0</td>\n",
       "      <td>1</td>\n",
       "      <td>27</td>\n",
       "      <td>848</td>\n",
       "      <td>677</td>\n",
       "    </tr>\n",
       "    <tr>\n",
       "      <th>176</th>\n",
       "      <td>9810</td>\n",
       "      <td>15</td>\n",
       "      <td>2456</td>\n",
       "      <td>3</td>\n",
       "      <td>1</td>\n",
       "      <td>0</td>\n",
       "      <td>8</td>\n",
       "      <td>22</td>\n",
       "      <td>1171</td>\n",
       "      <td>1103</td>\n",
       "    </tr>\n",
       "    <tr>\n",
       "      <th>177</th>\n",
       "      <td>9811</td>\n",
       "      <td>13</td>\n",
       "      <td>4246</td>\n",
       "      <td>12</td>\n",
       "      <td>4</td>\n",
       "      <td>0</td>\n",
       "      <td>18</td>\n",
       "      <td>37</td>\n",
       "      <td>1979</td>\n",
       "      <td>1819</td>\n",
       "    </tr>\n",
       "    <tr>\n",
       "      <th>178</th>\n",
       "      <td>10900</td>\n",
       "      <td>58</td>\n",
       "      <td>3055</td>\n",
       "      <td>6</td>\n",
       "      <td>15</td>\n",
       "      <td>0</td>\n",
       "      <td>12</td>\n",
       "      <td>47</td>\n",
       "      <td>1366</td>\n",
       "      <td>1161</td>\n",
       "    </tr>\n",
       "  </tbody>\n",
       "</table>\n",
       "<p>179 rows × 10 columns</p>\n",
       "</div>"
      ],
      "text/plain": [
       "     TRACT  white_pop  black_pop  ind_alk_pop  asian_pop  haw_isl_pop  \\\n",
       "0     2102        398       3583           15         27            0   \n",
       "1     9508        257       2821           11         30            0   \n",
       "2     1200       4073        272           18        388            3   \n",
       "3     9503        432       2301            4         41            0   \n",
       "4     9501       2128       2827           36        108           10   \n",
       "..     ...        ...        ...          ...        ...          ...   \n",
       "174   9801         16       1526            3          5            0   \n",
       "175   9802         11       1665            1          0            0   \n",
       "176   9810         15       2456            3          1            0   \n",
       "177   9811         13       4246           12          4            0   \n",
       "178  10900         58       3055            6         15            0   \n",
       "\n",
       "     other_pop  tot_hisp_pop  housing_units_total  occupied_housing_units  \n",
       "0          500           724                 2173                    1900  \n",
       "1          121           235                 1742                    1578  \n",
       "2           96           399                 2633                    2516  \n",
       "3           32           113                 1256                    1200  \n",
       "4          486           831                 1954                    1802  \n",
       "..         ...           ...                  ...                     ...  \n",
       "174          4            26                  766                     677  \n",
       "175          1            27                  848                     677  \n",
       "176          8            22                 1171                    1103  \n",
       "177         18            37                 1979                    1819  \n",
       "178         12            47                 1366                    1161  \n",
       "\n",
       "[179 rows x 10 columns]"
      ]
     },
     "execution_count": 15,
     "metadata": {},
     "output_type": "execute_result"
    }
   ],
   "source": [
    "census_df_2010"
   ]
  },
  {
   "cell_type": "code",
   "execution_count": 16,
   "id": "d9a54f4d",
   "metadata": {
    "scrolled": false
   },
   "outputs": [
    {
     "name": "stdout",
     "output_type": "stream",
     "text": [
      "<class 'pandas.core.frame.DataFrame'>\n",
      "RangeIndex: 179 entries, 0 to 178\n",
      "Data columns (total 10 columns):\n",
      " #   Column                  Non-Null Count  Dtype\n",
      "---  ------                  --------------  -----\n",
      " 0   TRACT                   179 non-null    int64\n",
      " 1   white_pop               179 non-null    int64\n",
      " 2   black_pop               179 non-null    int64\n",
      " 3   ind_alk_pop             179 non-null    int64\n",
      " 4   asian_pop               179 non-null    int64\n",
      " 5   haw_isl_pop             179 non-null    int64\n",
      " 6   other_pop               179 non-null    int64\n",
      " 7   tot_hisp_pop            179 non-null    int64\n",
      " 8   housing_units_total     179 non-null    int64\n",
      " 9   occupied_housing_units  179 non-null    int64\n",
      "dtypes: int64(10)\n",
      "memory usage: 14.1 KB\n"
     ]
    }
   ],
   "source": [
    "census_df_2010.info() # check columns with missing values"
   ]
  },
  {
   "cell_type": "markdown",
   "id": "91adcaad",
   "metadata": {},
   "source": [
    "### Read and prepare Census 2020 dataset"
   ]
  },
  {
   "cell_type": "code",
   "execution_count": 17,
   "id": "667ad7a9",
   "metadata": {
    "scrolled": false
   },
   "outputs": [],
   "source": [
    "#drop columns other than these\n",
    "census_df_2020 = pd.read_csv('./census/Census_Tracts_in_2020.csv')\n",
    "census_df_2020 = census_df_2020.drop(columns=census_df_2020.columns.difference(['TRACT','P0010003',\n",
    "                'P0010004','P0010005','P0010006','P0010007','P0010008','P0020002','H0010001','H0010002']))\n",
    "#rename columns to intuitive names\n",
    "census_df_2020.columns = ['TRACT','white_pop','black_pop','ind_alk_pop','asian_pop',\n",
    "                           'haw_isl_pop','other_pop','tot_hisp_pop','housing_units_total','occupied_housing_units']"
   ]
  },
  {
   "cell_type": "code",
   "execution_count": 18,
   "id": "feb17b82",
   "metadata": {
    "scrolled": false
   },
   "outputs": [
    {
     "data": {
      "text/html": [
       "<div>\n",
       "<style scoped>\n",
       "    .dataframe tbody tr th:only-of-type {\n",
       "        vertical-align: middle;\n",
       "    }\n",
       "\n",
       "    .dataframe tbody tr th {\n",
       "        vertical-align: top;\n",
       "    }\n",
       "\n",
       "    .dataframe thead th {\n",
       "        text-align: right;\n",
       "    }\n",
       "</style>\n",
       "<table border=\"1\" class=\"dataframe\">\n",
       "  <thead>\n",
       "    <tr style=\"text-align: right;\">\n",
       "      <th></th>\n",
       "      <th>TRACT</th>\n",
       "      <th>white_pop</th>\n",
       "      <th>black_pop</th>\n",
       "      <th>ind_alk_pop</th>\n",
       "      <th>asian_pop</th>\n",
       "      <th>haw_isl_pop</th>\n",
       "      <th>other_pop</th>\n",
       "      <th>tot_hisp_pop</th>\n",
       "      <th>housing_units_total</th>\n",
       "      <th>occupied_housing_units</th>\n",
       "    </tr>\n",
       "  </thead>\n",
       "  <tbody>\n",
       "    <tr>\n",
       "      <th>0</th>\n",
       "      <td>2002</td>\n",
       "      <td>1116</td>\n",
       "      <td>1751</td>\n",
       "      <td>27</td>\n",
       "      <td>84</td>\n",
       "      <td>0</td>\n",
       "      <td>669</td>\n",
       "      <td>1022</td>\n",
       "      <td>1532</td>\n",
       "      <td>1394</td>\n",
       "    </tr>\n",
       "    <tr>\n",
       "      <th>1</th>\n",
       "      <td>2101</td>\n",
       "      <td>1037</td>\n",
       "      <td>2642</td>\n",
       "      <td>86</td>\n",
       "      <td>120</td>\n",
       "      <td>1</td>\n",
       "      <td>1185</td>\n",
       "      <td>1868</td>\n",
       "      <td>2335</td>\n",
       "      <td>2107</td>\n",
       "    </tr>\n",
       "    <tr>\n",
       "      <th>2</th>\n",
       "      <td>2102</td>\n",
       "      <td>901</td>\n",
       "      <td>2910</td>\n",
       "      <td>50</td>\n",
       "      <td>87</td>\n",
       "      <td>0</td>\n",
       "      <td>651</td>\n",
       "      <td>1074</td>\n",
       "      <td>2221</td>\n",
       "      <td>1959</td>\n",
       "    </tr>\n",
       "    <tr>\n",
       "      <th>3</th>\n",
       "      <td>2201</td>\n",
       "      <td>973</td>\n",
       "      <td>1722</td>\n",
       "      <td>21</td>\n",
       "      <td>94</td>\n",
       "      <td>2</td>\n",
       "      <td>326</td>\n",
       "      <td>683</td>\n",
       "      <td>1229</td>\n",
       "      <td>1141</td>\n",
       "    </tr>\n",
       "    <tr>\n",
       "      <th>4</th>\n",
       "      <td>2202</td>\n",
       "      <td>619</td>\n",
       "      <td>1636</td>\n",
       "      <td>48</td>\n",
       "      <td>57</td>\n",
       "      <td>3</td>\n",
       "      <td>594</td>\n",
       "      <td>1003</td>\n",
       "      <td>1454</td>\n",
       "      <td>1273</td>\n",
       "    </tr>\n",
       "    <tr>\n",
       "      <th>...</th>\n",
       "      <td>...</td>\n",
       "      <td>...</td>\n",
       "      <td>...</td>\n",
       "      <td>...</td>\n",
       "      <td>...</td>\n",
       "      <td>...</td>\n",
       "      <td>...</td>\n",
       "      <td>...</td>\n",
       "      <td>...</td>\n",
       "      <td>...</td>\n",
       "    </tr>\n",
       "    <tr>\n",
       "      <th>201</th>\n",
       "      <td>10900</td>\n",
       "      <td>74</td>\n",
       "      <td>3055</td>\n",
       "      <td>11</td>\n",
       "      <td>12</td>\n",
       "      <td>0</td>\n",
       "      <td>53</td>\n",
       "      <td>106</td>\n",
       "      <td>1378</td>\n",
       "      <td>1268</td>\n",
       "    </tr>\n",
       "    <tr>\n",
       "      <th>202</th>\n",
       "      <td>11001</td>\n",
       "      <td>1046</td>\n",
       "      <td>941</td>\n",
       "      <td>6</td>\n",
       "      <td>139</td>\n",
       "      <td>0</td>\n",
       "      <td>53</td>\n",
       "      <td>182</td>\n",
       "      <td>1636</td>\n",
       "      <td>1479</td>\n",
       "    </tr>\n",
       "    <tr>\n",
       "      <th>203</th>\n",
       "      <td>11002</td>\n",
       "      <td>1226</td>\n",
       "      <td>361</td>\n",
       "      <td>4</td>\n",
       "      <td>97</td>\n",
       "      <td>0</td>\n",
       "      <td>35</td>\n",
       "      <td>122</td>\n",
       "      <td>1471</td>\n",
       "      <td>1307</td>\n",
       "    </tr>\n",
       "    <tr>\n",
       "      <th>204</th>\n",
       "      <td>11100</td>\n",
       "      <td>694</td>\n",
       "      <td>4446</td>\n",
       "      <td>36</td>\n",
       "      <td>85</td>\n",
       "      <td>3</td>\n",
       "      <td>240</td>\n",
       "      <td>472</td>\n",
       "      <td>1952</td>\n",
       "      <td>1801</td>\n",
       "    </tr>\n",
       "    <tr>\n",
       "      <th>205</th>\n",
       "      <td>980000</td>\n",
       "      <td>48</td>\n",
       "      <td>114</td>\n",
       "      <td>0</td>\n",
       "      <td>2</td>\n",
       "      <td>1</td>\n",
       "      <td>0</td>\n",
       "      <td>5</td>\n",
       "      <td>12</td>\n",
       "      <td>8</td>\n",
       "    </tr>\n",
       "  </tbody>\n",
       "</table>\n",
       "<p>206 rows × 10 columns</p>\n",
       "</div>"
      ],
      "text/plain": [
       "      TRACT  white_pop  black_pop  ind_alk_pop  asian_pop  haw_isl_pop  \\\n",
       "0      2002       1116       1751           27         84            0   \n",
       "1      2101       1037       2642           86        120            1   \n",
       "2      2102        901       2910           50         87            0   \n",
       "3      2201        973       1722           21         94            2   \n",
       "4      2202        619       1636           48         57            3   \n",
       "..      ...        ...        ...          ...        ...          ...   \n",
       "201   10900         74       3055           11         12            0   \n",
       "202   11001       1046        941            6        139            0   \n",
       "203   11002       1226        361            4         97            0   \n",
       "204   11100        694       4446           36         85            3   \n",
       "205  980000         48        114            0          2            1   \n",
       "\n",
       "     other_pop  tot_hisp_pop  housing_units_total  occupied_housing_units  \n",
       "0          669          1022                 1532                    1394  \n",
       "1         1185          1868                 2335                    2107  \n",
       "2          651          1074                 2221                    1959  \n",
       "3          326           683                 1229                    1141  \n",
       "4          594          1003                 1454                    1273  \n",
       "..         ...           ...                  ...                     ...  \n",
       "201         53           106                 1378                    1268  \n",
       "202         53           182                 1636                    1479  \n",
       "203         35           122                 1471                    1307  \n",
       "204        240           472                 1952                    1801  \n",
       "205          0             5                   12                       8  \n",
       "\n",
       "[206 rows x 10 columns]"
      ]
     },
     "execution_count": 18,
     "metadata": {},
     "output_type": "execute_result"
    }
   ],
   "source": [
    "census_df_2020"
   ]
  },
  {
   "cell_type": "code",
   "execution_count": 19,
   "id": "535f6ce1",
   "metadata": {
    "scrolled": false
   },
   "outputs": [
    {
     "name": "stdout",
     "output_type": "stream",
     "text": [
      "<class 'pandas.core.frame.DataFrame'>\n",
      "RangeIndex: 206 entries, 0 to 205\n",
      "Data columns (total 10 columns):\n",
      " #   Column                  Non-Null Count  Dtype\n",
      "---  ------                  --------------  -----\n",
      " 0   TRACT                   206 non-null    int64\n",
      " 1   white_pop               206 non-null    int64\n",
      " 2   black_pop               206 non-null    int64\n",
      " 3   ind_alk_pop             206 non-null    int64\n",
      " 4   asian_pop               206 non-null    int64\n",
      " 5   haw_isl_pop             206 non-null    int64\n",
      " 6   other_pop               206 non-null    int64\n",
      " 7   tot_hisp_pop            206 non-null    int64\n",
      " 8   housing_units_total     206 non-null    int64\n",
      " 9   occupied_housing_units  206 non-null    int64\n",
      "dtypes: int64(10)\n",
      "memory usage: 16.2 KB\n"
     ]
    }
   ],
   "source": [
    "census_df_2020.info() # Check if there are any columns with missing values"
   ]
  },
  {
   "cell_type": "markdown",
   "id": "4ea71955",
   "metadata": {},
   "source": [
    "#### Add Ward number to Census data. Census data has TRACT number but no ward number. In order to associate census data to permits we will use ward numbers. TRACT numbers are different for 2010 and 2020 census data. Mappings are in two files (TRACT number to WARD number) for 2010 and 2020 census data. (TRACTs are sections of Census areas and there are 179 TRACT areas in 2010 census and there are 206 TRACT areas in census 2020)."
   ]
  },
  {
   "cell_type": "markdown",
   "id": "13ef4026",
   "metadata": {},
   "source": [
    "### 2010 census TRACT to WARD mapping dataset"
   ]
  },
  {
   "cell_type": "code",
   "execution_count": 20,
   "id": "555a08a5",
   "metadata": {
    "scrolled": false
   },
   "outputs": [
    {
     "data": {
      "text/html": [
       "<div>\n",
       "<style scoped>\n",
       "    .dataframe tbody tr th:only-of-type {\n",
       "        vertical-align: middle;\n",
       "    }\n",
       "\n",
       "    .dataframe tbody tr th {\n",
       "        vertical-align: top;\n",
       "    }\n",
       "\n",
       "    .dataframe thead th {\n",
       "        text-align: right;\n",
       "    }\n",
       "</style>\n",
       "<table border=\"1\" class=\"dataframe\">\n",
       "  <thead>\n",
       "    <tr style=\"text-align: right;\">\n",
       "      <th></th>\n",
       "      <th>TRACT</th>\n",
       "      <th>WARD</th>\n",
       "    </tr>\n",
       "  </thead>\n",
       "  <tbody>\n",
       "    <tr>\n",
       "      <th>0</th>\n",
       "      <td>902</td>\n",
       "      <td>3</td>\n",
       "    </tr>\n",
       "    <tr>\n",
       "      <th>1</th>\n",
       "      <td>901</td>\n",
       "      <td>3</td>\n",
       "    </tr>\n",
       "    <tr>\n",
       "      <th>2</th>\n",
       "      <td>1001</td>\n",
       "      <td>3</td>\n",
       "    </tr>\n",
       "    <tr>\n",
       "      <th>3</th>\n",
       "      <td>1100</td>\n",
       "      <td>3</td>\n",
       "    </tr>\n",
       "    <tr>\n",
       "      <th>4</th>\n",
       "      <td>801</td>\n",
       "      <td>3</td>\n",
       "    </tr>\n",
       "    <tr>\n",
       "      <th>...</th>\n",
       "      <td>...</td>\n",
       "      <td>...</td>\n",
       "    </tr>\n",
       "    <tr>\n",
       "      <th>174</th>\n",
       "      <td>9907</td>\n",
       "      <td>7</td>\n",
       "    </tr>\n",
       "    <tr>\n",
       "      <th>175</th>\n",
       "      <td>9603</td>\n",
       "      <td>7</td>\n",
       "    </tr>\n",
       "    <tr>\n",
       "      <th>176</th>\n",
       "      <td>7703</td>\n",
       "      <td>7</td>\n",
       "    </tr>\n",
       "    <tr>\n",
       "      <th>177</th>\n",
       "      <td>7708</td>\n",
       "      <td>7</td>\n",
       "    </tr>\n",
       "    <tr>\n",
       "      <th>178</th>\n",
       "      <td>9901</td>\n",
       "      <td>7</td>\n",
       "    </tr>\n",
       "  </tbody>\n",
       "</table>\n",
       "<p>179 rows × 2 columns</p>\n",
       "</div>"
      ],
      "text/plain": [
       "     TRACT  WARD\n",
       "0      902     3\n",
       "1      901     3\n",
       "2     1001     3\n",
       "3     1100     3\n",
       "4      801     3\n",
       "..     ...   ...\n",
       "174   9907     7\n",
       "175   9603     7\n",
       "176   7703     7\n",
       "177   7708     7\n",
       "178   9901     7\n",
       "\n",
       "[179 rows x 2 columns]"
      ]
     },
     "execution_count": 20,
     "metadata": {},
     "output_type": "execute_result"
    }
   ],
   "source": [
    "tract_df_map_2010 = pd.read_csv('./helper/tract_ward_map_2010.csv')\n",
    "tract_df_map_2010"
   ]
  },
  {
   "cell_type": "code",
   "execution_count": 21,
   "id": "54bfcfc9",
   "metadata": {
    "scrolled": false
   },
   "outputs": [
    {
     "data": {
      "text/html": [
       "<div>\n",
       "<style scoped>\n",
       "    .dataframe tbody tr th:only-of-type {\n",
       "        vertical-align: middle;\n",
       "    }\n",
       "\n",
       "    .dataframe tbody tr th {\n",
       "        vertical-align: top;\n",
       "    }\n",
       "\n",
       "    .dataframe thead th {\n",
       "        text-align: right;\n",
       "    }\n",
       "</style>\n",
       "<table border=\"1\" class=\"dataframe\">\n",
       "  <thead>\n",
       "    <tr style=\"text-align: right;\">\n",
       "      <th></th>\n",
       "      <th>TRACT</th>\n",
       "      <th>white_pop</th>\n",
       "      <th>black_pop</th>\n",
       "      <th>ind_alk_pop</th>\n",
       "      <th>asian_pop</th>\n",
       "      <th>haw_isl_pop</th>\n",
       "      <th>other_pop</th>\n",
       "      <th>tot_hisp_pop</th>\n",
       "      <th>housing_units_total</th>\n",
       "      <th>occupied_housing_units</th>\n",
       "      <th>WARD</th>\n",
       "      <th>year</th>\n",
       "    </tr>\n",
       "  </thead>\n",
       "  <tbody>\n",
       "    <tr>\n",
       "      <th>0</th>\n",
       "      <td>2102</td>\n",
       "      <td>398</td>\n",
       "      <td>3583</td>\n",
       "      <td>15</td>\n",
       "      <td>27</td>\n",
       "      <td>0</td>\n",
       "      <td>500</td>\n",
       "      <td>724</td>\n",
       "      <td>2173</td>\n",
       "      <td>1900</td>\n",
       "      <td>4</td>\n",
       "      <td>2010</td>\n",
       "    </tr>\n",
       "    <tr>\n",
       "      <th>1</th>\n",
       "      <td>9508</td>\n",
       "      <td>257</td>\n",
       "      <td>2821</td>\n",
       "      <td>11</td>\n",
       "      <td>30</td>\n",
       "      <td>0</td>\n",
       "      <td>121</td>\n",
       "      <td>235</td>\n",
       "      <td>1742</td>\n",
       "      <td>1578</td>\n",
       "      <td>5</td>\n",
       "      <td>2010</td>\n",
       "    </tr>\n",
       "    <tr>\n",
       "      <th>2</th>\n",
       "      <td>1200</td>\n",
       "      <td>4073</td>\n",
       "      <td>272</td>\n",
       "      <td>18</td>\n",
       "      <td>388</td>\n",
       "      <td>3</td>\n",
       "      <td>96</td>\n",
       "      <td>399</td>\n",
       "      <td>2633</td>\n",
       "      <td>2516</td>\n",
       "      <td>3</td>\n",
       "      <td>2010</td>\n",
       "    </tr>\n",
       "    <tr>\n",
       "      <th>3</th>\n",
       "      <td>9503</td>\n",
       "      <td>432</td>\n",
       "      <td>2301</td>\n",
       "      <td>4</td>\n",
       "      <td>41</td>\n",
       "      <td>0</td>\n",
       "      <td>32</td>\n",
       "      <td>113</td>\n",
       "      <td>1256</td>\n",
       "      <td>1200</td>\n",
       "      <td>5</td>\n",
       "      <td>2010</td>\n",
       "    </tr>\n",
       "    <tr>\n",
       "      <th>4</th>\n",
       "      <td>9501</td>\n",
       "      <td>2128</td>\n",
       "      <td>2827</td>\n",
       "      <td>36</td>\n",
       "      <td>108</td>\n",
       "      <td>10</td>\n",
       "      <td>486</td>\n",
       "      <td>831</td>\n",
       "      <td>1954</td>\n",
       "      <td>1802</td>\n",
       "      <td>5</td>\n",
       "      <td>2010</td>\n",
       "    </tr>\n",
       "  </tbody>\n",
       "</table>\n",
       "</div>"
      ],
      "text/plain": [
       "   TRACT  white_pop  black_pop  ind_alk_pop  asian_pop  haw_isl_pop  \\\n",
       "0   2102        398       3583           15         27            0   \n",
       "1   9508        257       2821           11         30            0   \n",
       "2   1200       4073        272           18        388            3   \n",
       "3   9503        432       2301            4         41            0   \n",
       "4   9501       2128       2827           36        108           10   \n",
       "\n",
       "   other_pop  tot_hisp_pop  housing_units_total  occupied_housing_units  WARD  \\\n",
       "0        500           724                 2173                    1900     4   \n",
       "1        121           235                 1742                    1578     5   \n",
       "2         96           399                 2633                    2516     3   \n",
       "3         32           113                 1256                    1200     5   \n",
       "4        486           831                 1954                    1802     5   \n",
       "\n",
       "   year  \n",
       "0  2010  \n",
       "1  2010  \n",
       "2  2010  \n",
       "3  2010  \n",
       "4  2010  "
      ]
     },
     "execution_count": 21,
     "metadata": {},
     "output_type": "execute_result"
    }
   ],
   "source": [
    "#iterate through census datset and add ward number from the map data\n",
    "for i,r in enumerate(census_df_2010.TRACT):\n",
    "    for j,t in enumerate(tract_df_map_2010.TRACT):\n",
    "        if r == t:\n",
    "            census_df_2010.at[i,'WARD'] = tract_df_map_2010.at[j,'WARD']\n",
    "\n",
    "#set everything to integer\n",
    "census_df_2010['WARD'] = census_df_2010['WARD'].astype(np.int64)\n",
    "census_df_2010['year'] = 2010 # add the year column\n",
    "census_df_2010.head()"
   ]
  },
  {
   "cell_type": "code",
   "execution_count": 22,
   "id": "3ccf42e1",
   "metadata": {
    "scrolled": false
   },
   "outputs": [
    {
     "name": "stdout",
     "output_type": "stream",
     "text": [
      "<class 'pandas.core.frame.DataFrame'>\n",
      "RangeIndex: 179 entries, 0 to 178\n",
      "Data columns (total 12 columns):\n",
      " #   Column                  Non-Null Count  Dtype\n",
      "---  ------                  --------------  -----\n",
      " 0   TRACT                   179 non-null    int64\n",
      " 1   white_pop               179 non-null    int64\n",
      " 2   black_pop               179 non-null    int64\n",
      " 3   ind_alk_pop             179 non-null    int64\n",
      " 4   asian_pop               179 non-null    int64\n",
      " 5   haw_isl_pop             179 non-null    int64\n",
      " 6   other_pop               179 non-null    int64\n",
      " 7   tot_hisp_pop            179 non-null    int64\n",
      " 8   housing_units_total     179 non-null    int64\n",
      " 9   occupied_housing_units  179 non-null    int64\n",
      " 10  WARD                    179 non-null    int64\n",
      " 11  year                    179 non-null    int64\n",
      "dtypes: int64(12)\n",
      "memory usage: 16.9 KB\n"
     ]
    }
   ],
   "source": [
    "census_df_2010.info() # check if any columns with missing values"
   ]
  },
  {
   "cell_type": "markdown",
   "id": "476d2523",
   "metadata": {},
   "source": [
    "### 2020 census TRACT to WARD mapping dataset"
   ]
  },
  {
   "cell_type": "code",
   "execution_count": 23,
   "id": "d7c7274f",
   "metadata": {
    "scrolled": false
   },
   "outputs": [
    {
     "data": {
      "text/html": [
       "<div>\n",
       "<style scoped>\n",
       "    .dataframe tbody tr th:only-of-type {\n",
       "        vertical-align: middle;\n",
       "    }\n",
       "\n",
       "    .dataframe tbody tr th {\n",
       "        vertical-align: top;\n",
       "    }\n",
       "\n",
       "    .dataframe thead th {\n",
       "        text-align: right;\n",
       "    }\n",
       "</style>\n",
       "<table border=\"1\" class=\"dataframe\">\n",
       "  <thead>\n",
       "    <tr style=\"text-align: right;\">\n",
       "      <th></th>\n",
       "      <th>TRACT</th>\n",
       "      <th>WARD</th>\n",
       "    </tr>\n",
       "  </thead>\n",
       "  <tbody>\n",
       "    <tr>\n",
       "      <th>0</th>\n",
       "      <td>1600</td>\n",
       "      <td>4</td>\n",
       "    </tr>\n",
       "    <tr>\n",
       "      <th>1</th>\n",
       "      <td>1500</td>\n",
       "      <td>4</td>\n",
       "    </tr>\n",
       "    <tr>\n",
       "      <th>2</th>\n",
       "      <td>1401</td>\n",
       "      <td>4</td>\n",
       "    </tr>\n",
       "    <tr>\n",
       "      <th>3</th>\n",
       "      <td>1402</td>\n",
       "      <td>4</td>\n",
       "    </tr>\n",
       "    <tr>\n",
       "      <th>4</th>\n",
       "      <td>1803</td>\n",
       "      <td>4</td>\n",
       "    </tr>\n",
       "    <tr>\n",
       "      <th>...</th>\n",
       "      <td>...</td>\n",
       "      <td>...</td>\n",
       "    </tr>\n",
       "    <tr>\n",
       "      <th>201</th>\n",
       "      <td>9602</td>\n",
       "      <td>7</td>\n",
       "    </tr>\n",
       "    <tr>\n",
       "      <th>202</th>\n",
       "      <td>9601</td>\n",
       "      <td>7</td>\n",
       "    </tr>\n",
       "    <tr>\n",
       "      <th>203</th>\n",
       "      <td>7809</td>\n",
       "      <td>7</td>\n",
       "    </tr>\n",
       "    <tr>\n",
       "      <th>204</th>\n",
       "      <td>7806</td>\n",
       "      <td>7</td>\n",
       "    </tr>\n",
       "    <tr>\n",
       "      <th>205</th>\n",
       "      <td>7803</td>\n",
       "      <td>7</td>\n",
       "    </tr>\n",
       "  </tbody>\n",
       "</table>\n",
       "<p>206 rows × 2 columns</p>\n",
       "</div>"
      ],
      "text/plain": [
       "     TRACT  WARD\n",
       "0     1600     4\n",
       "1     1500     4\n",
       "2     1401     4\n",
       "3     1402     4\n",
       "4     1803     4\n",
       "..     ...   ...\n",
       "201   9602     7\n",
       "202   9601     7\n",
       "203   7809     7\n",
       "204   7806     7\n",
       "205   7803     7\n",
       "\n",
       "[206 rows x 2 columns]"
      ]
     },
     "execution_count": 23,
     "metadata": {},
     "output_type": "execute_result"
    }
   ],
   "source": [
    "tract_df_map_2020 = pd.read_csv('./helper/tract_ward_map_2020.csv')\n",
    "tract_df_map_2020"
   ]
  },
  {
   "cell_type": "code",
   "execution_count": 24,
   "id": "6f04f6c6",
   "metadata": {
    "scrolled": false
   },
   "outputs": [
    {
     "data": {
      "text/html": [
       "<div>\n",
       "<style scoped>\n",
       "    .dataframe tbody tr th:only-of-type {\n",
       "        vertical-align: middle;\n",
       "    }\n",
       "\n",
       "    .dataframe tbody tr th {\n",
       "        vertical-align: top;\n",
       "    }\n",
       "\n",
       "    .dataframe thead th {\n",
       "        text-align: right;\n",
       "    }\n",
       "</style>\n",
       "<table border=\"1\" class=\"dataframe\">\n",
       "  <thead>\n",
       "    <tr style=\"text-align: right;\">\n",
       "      <th></th>\n",
       "      <th>TRACT</th>\n",
       "      <th>white_pop</th>\n",
       "      <th>black_pop</th>\n",
       "      <th>ind_alk_pop</th>\n",
       "      <th>asian_pop</th>\n",
       "      <th>haw_isl_pop</th>\n",
       "      <th>other_pop</th>\n",
       "      <th>tot_hisp_pop</th>\n",
       "      <th>housing_units_total</th>\n",
       "      <th>occupied_housing_units</th>\n",
       "      <th>WARD</th>\n",
       "      <th>year</th>\n",
       "    </tr>\n",
       "  </thead>\n",
       "  <tbody>\n",
       "    <tr>\n",
       "      <th>0</th>\n",
       "      <td>2002</td>\n",
       "      <td>1116</td>\n",
       "      <td>1751</td>\n",
       "      <td>27</td>\n",
       "      <td>84</td>\n",
       "      <td>0</td>\n",
       "      <td>669</td>\n",
       "      <td>1022</td>\n",
       "      <td>1532</td>\n",
       "      <td>1394</td>\n",
       "      <td>4</td>\n",
       "      <td>2020</td>\n",
       "    </tr>\n",
       "    <tr>\n",
       "      <th>1</th>\n",
       "      <td>2101</td>\n",
       "      <td>1037</td>\n",
       "      <td>2642</td>\n",
       "      <td>86</td>\n",
       "      <td>120</td>\n",
       "      <td>1</td>\n",
       "      <td>1185</td>\n",
       "      <td>1868</td>\n",
       "      <td>2335</td>\n",
       "      <td>2107</td>\n",
       "      <td>4</td>\n",
       "      <td>2020</td>\n",
       "    </tr>\n",
       "    <tr>\n",
       "      <th>2</th>\n",
       "      <td>2102</td>\n",
       "      <td>901</td>\n",
       "      <td>2910</td>\n",
       "      <td>50</td>\n",
       "      <td>87</td>\n",
       "      <td>0</td>\n",
       "      <td>651</td>\n",
       "      <td>1074</td>\n",
       "      <td>2221</td>\n",
       "      <td>1959</td>\n",
       "      <td>4</td>\n",
       "      <td>2020</td>\n",
       "    </tr>\n",
       "    <tr>\n",
       "      <th>3</th>\n",
       "      <td>2201</td>\n",
       "      <td>973</td>\n",
       "      <td>1722</td>\n",
       "      <td>21</td>\n",
       "      <td>94</td>\n",
       "      <td>2</td>\n",
       "      <td>326</td>\n",
       "      <td>683</td>\n",
       "      <td>1229</td>\n",
       "      <td>1141</td>\n",
       "      <td>4</td>\n",
       "      <td>2020</td>\n",
       "    </tr>\n",
       "    <tr>\n",
       "      <th>4</th>\n",
       "      <td>2202</td>\n",
       "      <td>619</td>\n",
       "      <td>1636</td>\n",
       "      <td>48</td>\n",
       "      <td>57</td>\n",
       "      <td>3</td>\n",
       "      <td>594</td>\n",
       "      <td>1003</td>\n",
       "      <td>1454</td>\n",
       "      <td>1273</td>\n",
       "      <td>4</td>\n",
       "      <td>2020</td>\n",
       "    </tr>\n",
       "  </tbody>\n",
       "</table>\n",
       "</div>"
      ],
      "text/plain": [
       "   TRACT  white_pop  black_pop  ind_alk_pop  asian_pop  haw_isl_pop  \\\n",
       "0   2002       1116       1751           27         84            0   \n",
       "1   2101       1037       2642           86        120            1   \n",
       "2   2102        901       2910           50         87            0   \n",
       "3   2201        973       1722           21         94            2   \n",
       "4   2202        619       1636           48         57            3   \n",
       "\n",
       "   other_pop  tot_hisp_pop  housing_units_total  occupied_housing_units  WARD  \\\n",
       "0        669          1022                 1532                    1394     4   \n",
       "1       1185          1868                 2335                    2107     4   \n",
       "2        651          1074                 2221                    1959     4   \n",
       "3        326           683                 1229                    1141     4   \n",
       "4        594          1003                 1454                    1273     4   \n",
       "\n",
       "   year  \n",
       "0  2020  \n",
       "1  2020  \n",
       "2  2020  \n",
       "3  2020  \n",
       "4  2020  "
      ]
     },
     "execution_count": 24,
     "metadata": {},
     "output_type": "execute_result"
    }
   ],
   "source": [
    "#iterate through census datset and add ward number from the map data\n",
    "for i,r in enumerate(census_df_2020.TRACT):\n",
    "    for j,t in enumerate(tract_df_map_2020.TRACT):\n",
    "        if r == t:\n",
    "            census_df_2020.at[i,'WARD'] = tract_df_map_2020.at[j,'WARD']\n",
    "\n",
    "#set everything to integer\n",
    "census_df_2020['WARD'] = census_df_2020['WARD'].astype(np.int64)\n",
    "census_df_2020['year'] = 2020 # add the year column\n",
    "census_df_2020.head()"
   ]
  },
  {
   "cell_type": "code",
   "execution_count": 25,
   "id": "22288d5a",
   "metadata": {
    "scrolled": false
   },
   "outputs": [
    {
     "name": "stdout",
     "output_type": "stream",
     "text": [
      "<class 'pandas.core.frame.DataFrame'>\n",
      "RangeIndex: 206 entries, 0 to 205\n",
      "Data columns (total 12 columns):\n",
      " #   Column                  Non-Null Count  Dtype\n",
      "---  ------                  --------------  -----\n",
      " 0   TRACT                   206 non-null    int64\n",
      " 1   white_pop               206 non-null    int64\n",
      " 2   black_pop               206 non-null    int64\n",
      " 3   ind_alk_pop             206 non-null    int64\n",
      " 4   asian_pop               206 non-null    int64\n",
      " 5   haw_isl_pop             206 non-null    int64\n",
      " 6   other_pop               206 non-null    int64\n",
      " 7   tot_hisp_pop            206 non-null    int64\n",
      " 8   housing_units_total     206 non-null    int64\n",
      " 9   occupied_housing_units  206 non-null    int64\n",
      " 10  WARD                    206 non-null    int64\n",
      " 11  year                    206 non-null    int64\n",
      "dtypes: int64(12)\n",
      "memory usage: 19.4 KB\n"
     ]
    }
   ],
   "source": [
    "census_df_2020.info() # check if any columns with missing values"
   ]
  },
  {
   "cell_type": "markdown",
   "id": "79f12c24",
   "metadata": {},
   "source": [
    "#### Merge permit datasets from 2010 through 2022 into one dataframe"
   ]
  },
  {
   "cell_type": "code",
   "execution_count": 26,
   "id": "47dabdc5",
   "metadata": {},
   "outputs": [
    {
     "data": {
      "text/html": [
       "<div>\n",
       "<style scoped>\n",
       "    .dataframe tbody tr th:only-of-type {\n",
       "        vertical-align: middle;\n",
       "    }\n",
       "\n",
       "    .dataframe tbody tr th {\n",
       "        vertical-align: top;\n",
       "    }\n",
       "\n",
       "    .dataframe thead th {\n",
       "        text-align: right;\n",
       "    }\n",
       "</style>\n",
       "<table border=\"1\" class=\"dataframe\">\n",
       "  <thead>\n",
       "    <tr style=\"text-align: right;\">\n",
       "      <th></th>\n",
       "      <th>ISSUE_DATE</th>\n",
       "      <th>PERMIT_TYPE_NAME</th>\n",
       "      <th>PERMIT_SUBTYPE_NAME</th>\n",
       "      <th>APPLICATION_STATUS_NAME</th>\n",
       "      <th>PERMIT_APPLICANT</th>\n",
       "      <th>WARD</th>\n",
       "    </tr>\n",
       "  </thead>\n",
       "  <tbody>\n",
       "    <tr>\n",
       "      <th>0</th>\n",
       "      <td>2010-01-25</td>\n",
       "      <td>CONSTRUCTION</td>\n",
       "      <td>ADDITION</td>\n",
       "      <td>COMPLETED</td>\n",
       "      <td>ASHLEY  POOLE</td>\n",
       "      <td>6</td>\n",
       "    </tr>\n",
       "    <tr>\n",
       "      <th>1</th>\n",
       "      <td>2010-02-04</td>\n",
       "      <td>CONSTRUCTION</td>\n",
       "      <td>ADDITION</td>\n",
       "      <td>COMPLETED</td>\n",
       "      <td>SANDRA  JONES</td>\n",
       "      <td>8</td>\n",
       "    </tr>\n",
       "    <tr>\n",
       "      <th>2</th>\n",
       "      <td>2010-02-03</td>\n",
       "      <td>CONSTRUCTION</td>\n",
       "      <td>ADDITION</td>\n",
       "      <td>COMPLETED</td>\n",
       "      <td>MATTHEW J GRACE</td>\n",
       "      <td>5</td>\n",
       "    </tr>\n",
       "    <tr>\n",
       "      <th>3</th>\n",
       "      <td>2010-02-01</td>\n",
       "      <td>CONSTRUCTION</td>\n",
       "      <td>ADDITION</td>\n",
       "      <td>COMPLETED</td>\n",
       "      <td>CARLOS  MADERO</td>\n",
       "      <td>3</td>\n",
       "    </tr>\n",
       "    <tr>\n",
       "      <th>4</th>\n",
       "      <td>2010-02-09</td>\n",
       "      <td>CONSTRUCTION</td>\n",
       "      <td>ADDITION</td>\n",
       "      <td>COMPLETED</td>\n",
       "      <td>TRACY  HAUGEN</td>\n",
       "      <td>3</td>\n",
       "    </tr>\n",
       "    <tr>\n",
       "      <th>...</th>\n",
       "      <td>...</td>\n",
       "      <td>...</td>\n",
       "      <td>...</td>\n",
       "      <td>...</td>\n",
       "      <td>...</td>\n",
       "      <td>...</td>\n",
       "    </tr>\n",
       "    <tr>\n",
       "      <th>398</th>\n",
       "      <td>2022-02-15</td>\n",
       "      <td>CONSTRUCTION</td>\n",
       "      <td>NEW BUILDING</td>\n",
       "      <td>PERMIT ISSUED</td>\n",
       "      <td>PHILLIP R. PITTINGER-DUNHAM; N</td>\n",
       "      <td>8</td>\n",
       "    </tr>\n",
       "    <tr>\n",
       "      <th>399</th>\n",
       "      <td>2022-03-22</td>\n",
       "      <td>CONSTRUCTION</td>\n",
       "      <td>NEW BUILDING</td>\n",
       "      <td>PERMIT ISSUED</td>\n",
       "      <td>WILL  TEASS</td>\n",
       "      <td>8</td>\n",
       "    </tr>\n",
       "    <tr>\n",
       "      <th>400</th>\n",
       "      <td>2022-07-19</td>\n",
       "      <td>CONSTRUCTION</td>\n",
       "      <td>NEW BUILDING</td>\n",
       "      <td>PERMIT ISSUED</td>\n",
       "      <td>DFM DEVELOPMENT  SERVICES LLC</td>\n",
       "      <td>3</td>\n",
       "    </tr>\n",
       "    <tr>\n",
       "      <th>401</th>\n",
       "      <td>2022-07-15</td>\n",
       "      <td>CONSTRUCTION</td>\n",
       "      <td>NEW BUILDING</td>\n",
       "      <td>PERMIT ISSUED</td>\n",
       "      <td>OUTERBRIDGE  HORSEY; PETERSON AND COLLINS INC</td>\n",
       "      <td>3</td>\n",
       "    </tr>\n",
       "    <tr>\n",
       "      <th>402</th>\n",
       "      <td>2022-09-29</td>\n",
       "      <td>CONSTRUCTION</td>\n",
       "      <td>NEW BUILDING</td>\n",
       "      <td>PERMIT ISSUED</td>\n",
       "      <td>GABRIELLE  OAKES; NA</td>\n",
       "      <td>5</td>\n",
       "    </tr>\n",
       "  </tbody>\n",
       "</table>\n",
       "<p>7285 rows × 6 columns</p>\n",
       "</div>"
      ],
      "text/plain": [
       "    ISSUE_DATE PERMIT_TYPE_NAME PERMIT_SUBTYPE_NAME APPLICATION_STATUS_NAME  \\\n",
       "0   2010-01-25     CONSTRUCTION            ADDITION               COMPLETED   \n",
       "1   2010-02-04     CONSTRUCTION            ADDITION               COMPLETED   \n",
       "2   2010-02-03     CONSTRUCTION            ADDITION               COMPLETED   \n",
       "3   2010-02-01     CONSTRUCTION            ADDITION               COMPLETED   \n",
       "4   2010-02-09     CONSTRUCTION            ADDITION               COMPLETED   \n",
       "..         ...              ...                 ...                     ...   \n",
       "398 2022-02-15     CONSTRUCTION        NEW BUILDING           PERMIT ISSUED   \n",
       "399 2022-03-22     CONSTRUCTION        NEW BUILDING           PERMIT ISSUED   \n",
       "400 2022-07-19     CONSTRUCTION        NEW BUILDING           PERMIT ISSUED   \n",
       "401 2022-07-15     CONSTRUCTION        NEW BUILDING           PERMIT ISSUED   \n",
       "402 2022-09-29     CONSTRUCTION        NEW BUILDING           PERMIT ISSUED   \n",
       "\n",
       "                                  PERMIT_APPLICANT  WARD  \n",
       "0                                    ASHLEY  POOLE     6  \n",
       "1                                    SANDRA  JONES     8  \n",
       "2                                  MATTHEW J GRACE     5  \n",
       "3                                   CARLOS  MADERO     3  \n",
       "4                                    TRACY  HAUGEN     3  \n",
       "..                                             ...   ...  \n",
       "398                 PHILLIP R. PITTINGER-DUNHAM; N     8  \n",
       "399                                    WILL  TEASS     8  \n",
       "400                  DFM DEVELOPMENT  SERVICES LLC     3  \n",
       "401  OUTERBRIDGE  HORSEY; PETERSON AND COLLINS INC     3  \n",
       "402                           GABRIELLE  OAKES; NA     5  \n",
       "\n",
       "[7285 rows x 6 columns]"
      ]
     },
     "execution_count": 26,
     "metadata": {},
     "output_type": "execute_result"
    }
   ],
   "source": [
    "comb_permit_df = pd.concat([ permit_df_dict['2010'], permit_df_dict['2011'],permit_df_dict['2012'],\n",
    "                             permit_df_dict['2013'], permit_df_dict['2014'],permit_df_dict['2015'],\n",
    "                             permit_df_dict['2016'], permit_df_dict['2017'],permit_df_dict['2018'],\n",
    "                             permit_df_dict['2019'], permit_df_dict['2020'],permit_df_dict['2021'],\n",
    "                             permit_df_dict['2022'] ])\n",
    "                            \n",
    "                            \n",
    "comb_permit_df"
   ]
  },
  {
   "cell_type": "code",
   "execution_count": 27,
   "id": "0efb7bb3",
   "metadata": {
    "scrolled": true
   },
   "outputs": [
    {
     "name": "stdout",
     "output_type": "stream",
     "text": [
      "<class 'pandas.core.frame.DataFrame'>\n",
      "Int64Index: 7285 entries, 0 to 402\n",
      "Data columns (total 6 columns):\n",
      " #   Column                   Non-Null Count  Dtype         \n",
      "---  ------                   --------------  -----         \n",
      " 0   ISSUE_DATE               7285 non-null   datetime64[ns]\n",
      " 1   PERMIT_TYPE_NAME         7285 non-null   object        \n",
      " 2   PERMIT_SUBTYPE_NAME      7285 non-null   object        \n",
      " 3   APPLICATION_STATUS_NAME  7285 non-null   object        \n",
      " 4   PERMIT_APPLICANT         7285 non-null   object        \n",
      " 5   WARD                     7285 non-null   int64         \n",
      "dtypes: datetime64[ns](1), int64(1), object(4)\n",
      "memory usage: 398.4+ KB\n"
     ]
    }
   ],
   "source": [
    "comb_permit_df.info()"
   ]
  },
  {
   "cell_type": "markdown",
   "id": "f564dbb7",
   "metadata": {},
   "source": [
    "Let's add a year column to the combined table so we can create graphs based on the year"
   ]
  },
  {
   "cell_type": "code",
   "execution_count": 28,
   "id": "97d16964",
   "metadata": {
    "scrolled": false
   },
   "outputs": [],
   "source": [
    "comb_permit_df['year'] = comb_permit_df.ISSUE_DATE.dt.year"
   ]
  },
  {
   "cell_type": "markdown",
   "id": "1480bf90",
   "metadata": {},
   "source": [
    "# Results: "
   ]
  },
  {
   "cell_type": "code",
   "execution_count": 29,
   "id": "354ddb89",
   "metadata": {
    "scrolled": false
   },
   "outputs": [
    {
     "data": {
      "image/png": "[encoded data removed]",
      "text/plain": [
       "<Figure size 720x360 with 1 Axes>"
      ]
     },
     "metadata": {
      "needs_background": "light"
     },
     "output_type": "display_data"
    }
   ],
   "source": [
    "comb_permit_df.groupby(['PERMIT_SUBTYPE_NAME']).WARD.value_counts().unstack().plot.bar(stacked=True,figsize=(10,5))\n",
    "plt.title('D.C development from 2010 through 2022 by development type')\n",
    "plt.xlabel('Developmnet type by Ward')\n",
    "plt.ylabel('Development permits')\n",
    "plt.show()"
   ]
  },
  {
   "cell_type": "markdown",
   "id": "58994e35",
   "metadata": {},
   "source": [
    "### Analysis  \n",
    "Majority of the redevelopment is new buildings. We see that Ward 5 had the most redevelopment, followed by ward 7, 8 and then 6. Redevelopment is less in wards 1,2,3 and 4."
   ]
  },
  {
   "cell_type": "code",
   "execution_count": 30,
   "id": "1b0e029f",
   "metadata": {
    "scrolled": false
   },
   "outputs": [
    {
     "data": {
      "image/png": "[encoded data removed]",
      "text/plain": [
       "<Figure size 720x360 with 1 Axes>"
      ]
     },
     "metadata": {
      "needs_background": "light"
     },
     "output_type": "display_data"
    }
   ],
   "source": [
    "comb_permit_df.groupby(['WARD']).PERMIT_SUBTYPE_NAME.value_counts().unstack().plot.bar(figsize=(10,5), grid=True)\n",
    "plt.title('D.C development from 2010 through 2022 by Ward')\n",
    "plt.xlabel('WARD')\n",
    "plt.ylabel('Development permits')\n",
    "plt.show()"
   ]
  },
  {
   "cell_type": "markdown",
   "id": "ff0ad6ce",
   "metadata": {},
   "source": [
    "### Analysis  \n",
    "This is another representaion of the redevelopment numbers by ward from 2010 trhrough 2022. We see highest redevelopment was in ward 5 and lowest redevelopment was in ward 1. Ward 1 has the smallest area among the wards. Ward 2 is not small but it includes most of the downtown and National mall and museums so it makes sense that it is highly built and there are less number of redevelopment."
   ]
  },
  {
   "cell_type": "code",
   "execution_count": 31,
   "id": "89331718",
   "metadata": {
    "scrolled": true
   },
   "outputs": [
    {
     "data": {
      "image/png": "[encoded data removed]",
      "text/plain": [
       "<Figure size 720x360 with 1 Axes>"
      ]
     },
     "metadata": {
      "needs_background": "light"
     },
     "output_type": "display_data"
    }
   ],
   "source": [
    "comb_permit_df.groupby(['year']).WARD.value_counts().unstack().plot.bar(stacked=True,figsize=(10,5))\n",
    "plt.title('D.C development from 2010 through 2022')\n",
    "plt.xlabel('year')\n",
    "plt.ylabel('Development permits')\n",
    "plt.show()"
   ]
  },
  {
   "cell_type": "markdown",
   "id": "a46881c0",
   "metadata": {},
   "source": [
    "### Analysis  \n",
    "We see that highest redevelopment was in 2013. Least number of redevelopment was in 2018. Ward 5 has high redevelopment especially from 2010 through 2017, but the number of redevelopments decreased for ward 5 after 2017. Wards 6,7 and 8 seems to be redevoling more starting in 2021. Ward 3 redevelopment also decreased after 2017."
   ]
  },
  {
   "cell_type": "code",
   "execution_count": 32,
   "id": "4e733075",
   "metadata": {
    "scrolled": true
   },
   "outputs": [
    {
     "data": {
      "image/png": "[encoded data removed]",
      "text/plain": [
       "<Figure size 720x360 with 1 Axes>"
      ]
     },
     "metadata": {
      "needs_background": "light"
     },
     "output_type": "display_data"
    }
   ],
   "source": [
    "comb_permit_df.groupby(['year']).PERMIT_SUBTYPE_NAME.value_counts().unstack().plot.bar(stacked=True, figsize=(10,5))\n",
    "plt.title('D.C development from 2010 through 2022')\n",
    "plt.xlabel('year')\n",
    "plt.ylabel('Development permits')\n",
    "plt.show()"
   ]
  },
  {
   "cell_type": "markdown",
   "id": "079f63f9",
   "metadata": {},
   "source": [
    "### Analysis  \n",
    "\n",
    "We see that almost all the redevelopment is new buildings after 2018 rather than addition permits."
   ]
  },
  {
   "cell_type": "markdown",
   "id": "13098dfc",
   "metadata": {},
   "source": [
    "### Let's take a look at the redevelopment as a line chart to see the timeline and analyze the COVID-19 period."
   ]
  },
  {
   "cell_type": "code",
   "execution_count": 33,
   "id": "b36a6578",
   "metadata": {
    "scrolled": false
   },
   "outputs": [
    {
     "data": {
      "text/plain": [
       "ISSUE_DATE\n",
       "2010-12-31    561\n",
       "2011-12-31    620\n",
       "2012-12-31    692\n",
       "2013-12-31    849\n",
       "2014-12-31    662\n",
       "2015-12-31    702\n",
       "2016-12-31    605\n",
       "2017-12-31    626\n",
       "2018-12-31    323\n",
       "2019-12-31    379\n",
       "2020-12-31    324\n",
       "2021-12-31    539\n",
       "2022-12-31    403\n",
       "Freq: A-DEC, Name: PERMIT_SUBTYPE_NAME, dtype: int64"
      ]
     },
     "execution_count": 33,
     "metadata": {},
     "output_type": "execute_result"
    }
   ],
   "source": [
    "#Group the data yearly segments\n",
    "permits_yearly_df = comb_permit_df.groupby(pd.Grouper(freq='Y', key='ISSUE_DATE'))['PERMIT_SUBTYPE_NAME'].size()\n",
    "permits_yearly_df"
   ]
  },
  {
   "cell_type": "code",
   "execution_count": 34,
   "id": "41495178",
   "metadata": {
    "scrolled": false
   },
   "outputs": [
    {
     "data": {
      "image/png": "[encoded data removed]",
      "text/plain": [
       "<Figure size 1152x432 with 1 Axes>"
      ]
     },
     "metadata": {
      "needs_background": "light"
     },
     "output_type": "display_data"
    }
   ],
   "source": [
    "from matplotlib import dates as mdates\n",
    "\n",
    "fig,ax=plt.subplots(1, 1, figsize=(16, 6))\n",
    "\n",
    "\n",
    "ax.plot(permits_yearly_df.index,permits_yearly_df.values,color='red', linewidth=2, label=\"Yearly\") \n",
    "plt.title('Building permits (new bldg. and additions) 2010 through 2022')\n",
    "plt.xlabel('Date')\n",
    "plt.ylabel('Number of permits')\n",
    "plt.legend(loc='upper right', ncol=1)\n",
    "\n",
    "#Add X axis labels\n",
    "#Use some of the code from this site\n",
    "#https://stackoverflow.com/questions/53013184/formatting-month-name-abbreviation-jan-feb-within-datetime\n",
    "\n",
    "years = mdates.YearLocator()\n",
    "months = mdates.MonthLocator()\n",
    "monthsFmt = mdates.DateFormatter('%b')\n",
    "yearsFmt = mdates.DateFormatter('%b\\n%Y')\n",
    "ax.xaxis.set_minor_locator(years)\n",
    "ax.xaxis.set_minor_formatter(yearsFmt)\n",
    "plt.setp(ax.xaxis.get_minorticklabels(), rotation=0)\n",
    "ax.set_ylim(0, permits_yearly_df.values.max()+50) # set Y-axis range start from 0\n",
    "ax.xaxis.set_major_locator(years)\n",
    "ax.xaxis.set_major_formatter(yearsFmt)\n",
    "\n",
    "ax.grid()\n",
    "plt.show()"
   ]
  },
  {
   "cell_type": "markdown",
   "id": "6bfd386b",
   "metadata": {},
   "source": [
    "### Analysis  \n",
    "We see that number of new building and addition permits were down from january 2019 through January 2021. It appers that there was a decline in permits in 2018-2019 and it continued during the peak of COVID-19 pandemic. Permits started to increase starting in January 2021 but still low thorugh 2022."
   ]
  },
  {
   "cell_type": "markdown",
   "id": "38f4ecf6",
   "metadata": {},
   "source": [
    "### Analyze census data from 2010 and 2020"
   ]
  },
  {
   "cell_type": "code",
   "execution_count": 35,
   "id": "3634870a",
   "metadata": {
    "scrolled": false
   },
   "outputs": [
    {
     "data": {
      "text/html": [
       "<div>\n",
       "<style scoped>\n",
       "    .dataframe tbody tr th:only-of-type {\n",
       "        vertical-align: middle;\n",
       "    }\n",
       "\n",
       "    .dataframe tbody tr th {\n",
       "        vertical-align: top;\n",
       "    }\n",
       "\n",
       "    .dataframe thead th {\n",
       "        text-align: right;\n",
       "    }\n",
       "</style>\n",
       "<table border=\"1\" class=\"dataframe\">\n",
       "  <thead>\n",
       "    <tr style=\"text-align: right;\">\n",
       "      <th></th>\n",
       "      <th>TRACT</th>\n",
       "      <th>white_pop</th>\n",
       "      <th>black_pop</th>\n",
       "      <th>ind_alk_pop</th>\n",
       "      <th>asian_pop</th>\n",
       "      <th>haw_isl_pop</th>\n",
       "      <th>other_pop</th>\n",
       "      <th>tot_hisp_pop</th>\n",
       "      <th>housing_units_total</th>\n",
       "      <th>occupied_housing_units</th>\n",
       "      <th>WARD</th>\n",
       "      <th>year</th>\n",
       "    </tr>\n",
       "  </thead>\n",
       "  <tbody>\n",
       "    <tr>\n",
       "      <th>0</th>\n",
       "      <td>2102</td>\n",
       "      <td>398</td>\n",
       "      <td>3583</td>\n",
       "      <td>15</td>\n",
       "      <td>27</td>\n",
       "      <td>0</td>\n",
       "      <td>500</td>\n",
       "      <td>724</td>\n",
       "      <td>2173</td>\n",
       "      <td>1900</td>\n",
       "      <td>4</td>\n",
       "      <td>2010</td>\n",
       "    </tr>\n",
       "    <tr>\n",
       "      <th>1</th>\n",
       "      <td>9508</td>\n",
       "      <td>257</td>\n",
       "      <td>2821</td>\n",
       "      <td>11</td>\n",
       "      <td>30</td>\n",
       "      <td>0</td>\n",
       "      <td>121</td>\n",
       "      <td>235</td>\n",
       "      <td>1742</td>\n",
       "      <td>1578</td>\n",
       "      <td>5</td>\n",
       "      <td>2010</td>\n",
       "    </tr>\n",
       "    <tr>\n",
       "      <th>2</th>\n",
       "      <td>1200</td>\n",
       "      <td>4073</td>\n",
       "      <td>272</td>\n",
       "      <td>18</td>\n",
       "      <td>388</td>\n",
       "      <td>3</td>\n",
       "      <td>96</td>\n",
       "      <td>399</td>\n",
       "      <td>2633</td>\n",
       "      <td>2516</td>\n",
       "      <td>3</td>\n",
       "      <td>2010</td>\n",
       "    </tr>\n",
       "    <tr>\n",
       "      <th>3</th>\n",
       "      <td>9503</td>\n",
       "      <td>432</td>\n",
       "      <td>2301</td>\n",
       "      <td>4</td>\n",
       "      <td>41</td>\n",
       "      <td>0</td>\n",
       "      <td>32</td>\n",
       "      <td>113</td>\n",
       "      <td>1256</td>\n",
       "      <td>1200</td>\n",
       "      <td>5</td>\n",
       "      <td>2010</td>\n",
       "    </tr>\n",
       "    <tr>\n",
       "      <th>4</th>\n",
       "      <td>9501</td>\n",
       "      <td>2128</td>\n",
       "      <td>2827</td>\n",
       "      <td>36</td>\n",
       "      <td>108</td>\n",
       "      <td>10</td>\n",
       "      <td>486</td>\n",
       "      <td>831</td>\n",
       "      <td>1954</td>\n",
       "      <td>1802</td>\n",
       "      <td>5</td>\n",
       "      <td>2010</td>\n",
       "    </tr>\n",
       "    <tr>\n",
       "      <th>...</th>\n",
       "      <td>...</td>\n",
       "      <td>...</td>\n",
       "      <td>...</td>\n",
       "      <td>...</td>\n",
       "      <td>...</td>\n",
       "      <td>...</td>\n",
       "      <td>...</td>\n",
       "      <td>...</td>\n",
       "      <td>...</td>\n",
       "      <td>...</td>\n",
       "      <td>...</td>\n",
       "      <td>...</td>\n",
       "    </tr>\n",
       "    <tr>\n",
       "      <th>201</th>\n",
       "      <td>10900</td>\n",
       "      <td>74</td>\n",
       "      <td>3055</td>\n",
       "      <td>11</td>\n",
       "      <td>12</td>\n",
       "      <td>0</td>\n",
       "      <td>53</td>\n",
       "      <td>106</td>\n",
       "      <td>1378</td>\n",
       "      <td>1268</td>\n",
       "      <td>8</td>\n",
       "      <td>2020</td>\n",
       "    </tr>\n",
       "    <tr>\n",
       "      <th>202</th>\n",
       "      <td>11001</td>\n",
       "      <td>1046</td>\n",
       "      <td>941</td>\n",
       "      <td>6</td>\n",
       "      <td>139</td>\n",
       "      <td>0</td>\n",
       "      <td>53</td>\n",
       "      <td>182</td>\n",
       "      <td>1636</td>\n",
       "      <td>1479</td>\n",
       "      <td>6</td>\n",
       "      <td>2020</td>\n",
       "    </tr>\n",
       "    <tr>\n",
       "      <th>203</th>\n",
       "      <td>11002</td>\n",
       "      <td>1226</td>\n",
       "      <td>361</td>\n",
       "      <td>4</td>\n",
       "      <td>97</td>\n",
       "      <td>0</td>\n",
       "      <td>35</td>\n",
       "      <td>122</td>\n",
       "      <td>1471</td>\n",
       "      <td>1307</td>\n",
       "      <td>6</td>\n",
       "      <td>2020</td>\n",
       "    </tr>\n",
       "    <tr>\n",
       "      <th>204</th>\n",
       "      <td>11100</td>\n",
       "      <td>694</td>\n",
       "      <td>4446</td>\n",
       "      <td>36</td>\n",
       "      <td>85</td>\n",
       "      <td>3</td>\n",
       "      <td>240</td>\n",
       "      <td>472</td>\n",
       "      <td>1952</td>\n",
       "      <td>1801</td>\n",
       "      <td>5</td>\n",
       "      <td>2020</td>\n",
       "    </tr>\n",
       "    <tr>\n",
       "      <th>205</th>\n",
       "      <td>980000</td>\n",
       "      <td>48</td>\n",
       "      <td>114</td>\n",
       "      <td>0</td>\n",
       "      <td>2</td>\n",
       "      <td>1</td>\n",
       "      <td>0</td>\n",
       "      <td>5</td>\n",
       "      <td>12</td>\n",
       "      <td>8</td>\n",
       "      <td>2</td>\n",
       "      <td>2020</td>\n",
       "    </tr>\n",
       "  </tbody>\n",
       "</table>\n",
       "<p>385 rows × 12 columns</p>\n",
       "</div>"
      ],
      "text/plain": [
       "      TRACT  white_pop  black_pop  ind_alk_pop  asian_pop  haw_isl_pop  \\\n",
       "0      2102        398       3583           15         27            0   \n",
       "1      9508        257       2821           11         30            0   \n",
       "2      1200       4073        272           18        388            3   \n",
       "3      9503        432       2301            4         41            0   \n",
       "4      9501       2128       2827           36        108           10   \n",
       "..      ...        ...        ...          ...        ...          ...   \n",
       "201   10900         74       3055           11         12            0   \n",
       "202   11001       1046        941            6        139            0   \n",
       "203   11002       1226        361            4         97            0   \n",
       "204   11100        694       4446           36         85            3   \n",
       "205  980000         48        114            0          2            1   \n",
       "\n",
       "     other_pop  tot_hisp_pop  housing_units_total  occupied_housing_units  \\\n",
       "0          500           724                 2173                    1900   \n",
       "1          121           235                 1742                    1578   \n",
       "2           96           399                 2633                    2516   \n",
       "3           32           113                 1256                    1200   \n",
       "4          486           831                 1954                    1802   \n",
       "..         ...           ...                  ...                     ...   \n",
       "201         53           106                 1378                    1268   \n",
       "202         53           182                 1636                    1479   \n",
       "203         35           122                 1471                    1307   \n",
       "204        240           472                 1952                    1801   \n",
       "205          0             5                   12                       8   \n",
       "\n",
       "     WARD  year  \n",
       "0       4  2010  \n",
       "1       5  2010  \n",
       "2       3  2010  \n",
       "3       5  2010  \n",
       "4       5  2010  \n",
       "..    ...   ...  \n",
       "201     8  2020  \n",
       "202     6  2020  \n",
       "203     6  2020  \n",
       "204     5  2020  \n",
       "205     2  2020  \n",
       "\n",
       "[385 rows x 12 columns]"
      ]
     },
     "execution_count": 35,
     "metadata": {},
     "output_type": "execute_result"
    }
   ],
   "source": [
    "#Combine the census 2010 and 2020 datasets\n",
    "comb_census_df = pd.concat([census_df_2010, census_df_2020])\n",
    "comb_census_df"
   ]
  },
  {
   "cell_type": "code",
   "execution_count": 36,
   "id": "abf1abfb",
   "metadata": {
    "scrolled": false
   },
   "outputs": [
    {
     "data": {
      "text/plain": [
       "Index(['TRACT', 'white_pop', 'black_pop', 'ind_alk_pop', 'asian_pop',\n",
       "       'haw_isl_pop', 'other_pop', 'tot_hisp_pop', 'housing_units_total',\n",
       "       'occupied_housing_units', 'WARD', 'year'],\n",
       "      dtype='object')"
      ]
     },
     "execution_count": 36,
     "metadata": {},
     "output_type": "execute_result"
    }
   ],
   "source": [
    "comb_census_df.columns"
   ]
  },
  {
   "cell_type": "code",
   "execution_count": 37,
   "id": "ec4a422c",
   "metadata": {
    "scrolled": false
   },
   "outputs": [
    {
     "data": {
      "text/html": [
       "<div>\n",
       "<style scoped>\n",
       "    .dataframe tbody tr th:only-of-type {\n",
       "        vertical-align: middle;\n",
       "    }\n",
       "\n",
       "    .dataframe tbody tr th {\n",
       "        vertical-align: top;\n",
       "    }\n",
       "\n",
       "    .dataframe thead th {\n",
       "        text-align: right;\n",
       "    }\n",
       "</style>\n",
       "<table border=\"1\" class=\"dataframe\">\n",
       "  <thead>\n",
       "    <tr style=\"text-align: right;\">\n",
       "      <th></th>\n",
       "      <th>white_pop</th>\n",
       "      <th>black_pop</th>\n",
       "      <th>ind_alk_pop</th>\n",
       "      <th>asian_pop</th>\n",
       "      <th>haw_isl_pop</th>\n",
       "      <th>other_pop</th>\n",
       "      <th>tot_hisp_pop</th>\n",
       "      <th>year</th>\n",
       "    </tr>\n",
       "  </thead>\n",
       "  <tbody>\n",
       "    <tr>\n",
       "      <th>0</th>\n",
       "      <td>398</td>\n",
       "      <td>3583</td>\n",
       "      <td>15</td>\n",
       "      <td>27</td>\n",
       "      <td>0</td>\n",
       "      <td>500</td>\n",
       "      <td>724</td>\n",
       "      <td>2010</td>\n",
       "    </tr>\n",
       "    <tr>\n",
       "      <th>1</th>\n",
       "      <td>257</td>\n",
       "      <td>2821</td>\n",
       "      <td>11</td>\n",
       "      <td>30</td>\n",
       "      <td>0</td>\n",
       "      <td>121</td>\n",
       "      <td>235</td>\n",
       "      <td>2010</td>\n",
       "    </tr>\n",
       "    <tr>\n",
       "      <th>2</th>\n",
       "      <td>4073</td>\n",
       "      <td>272</td>\n",
       "      <td>18</td>\n",
       "      <td>388</td>\n",
       "      <td>3</td>\n",
       "      <td>96</td>\n",
       "      <td>399</td>\n",
       "      <td>2010</td>\n",
       "    </tr>\n",
       "    <tr>\n",
       "      <th>3</th>\n",
       "      <td>432</td>\n",
       "      <td>2301</td>\n",
       "      <td>4</td>\n",
       "      <td>41</td>\n",
       "      <td>0</td>\n",
       "      <td>32</td>\n",
       "      <td>113</td>\n",
       "      <td>2010</td>\n",
       "    </tr>\n",
       "    <tr>\n",
       "      <th>4</th>\n",
       "      <td>2128</td>\n",
       "      <td>2827</td>\n",
       "      <td>36</td>\n",
       "      <td>108</td>\n",
       "      <td>10</td>\n",
       "      <td>486</td>\n",
       "      <td>831</td>\n",
       "      <td>2010</td>\n",
       "    </tr>\n",
       "    <tr>\n",
       "      <th>...</th>\n",
       "      <td>...</td>\n",
       "      <td>...</td>\n",
       "      <td>...</td>\n",
       "      <td>...</td>\n",
       "      <td>...</td>\n",
       "      <td>...</td>\n",
       "      <td>...</td>\n",
       "      <td>...</td>\n",
       "    </tr>\n",
       "    <tr>\n",
       "      <th>201</th>\n",
       "      <td>74</td>\n",
       "      <td>3055</td>\n",
       "      <td>11</td>\n",
       "      <td>12</td>\n",
       "      <td>0</td>\n",
       "      <td>53</td>\n",
       "      <td>106</td>\n",
       "      <td>2020</td>\n",
       "    </tr>\n",
       "    <tr>\n",
       "      <th>202</th>\n",
       "      <td>1046</td>\n",
       "      <td>941</td>\n",
       "      <td>6</td>\n",
       "      <td>139</td>\n",
       "      <td>0</td>\n",
       "      <td>53</td>\n",
       "      <td>182</td>\n",
       "      <td>2020</td>\n",
       "    </tr>\n",
       "    <tr>\n",
       "      <th>203</th>\n",
       "      <td>1226</td>\n",
       "      <td>361</td>\n",
       "      <td>4</td>\n",
       "      <td>97</td>\n",
       "      <td>0</td>\n",
       "      <td>35</td>\n",
       "      <td>122</td>\n",
       "      <td>2020</td>\n",
       "    </tr>\n",
       "    <tr>\n",
       "      <th>204</th>\n",
       "      <td>694</td>\n",
       "      <td>4446</td>\n",
       "      <td>36</td>\n",
       "      <td>85</td>\n",
       "      <td>3</td>\n",
       "      <td>240</td>\n",
       "      <td>472</td>\n",
       "      <td>2020</td>\n",
       "    </tr>\n",
       "    <tr>\n",
       "      <th>205</th>\n",
       "      <td>48</td>\n",
       "      <td>114</td>\n",
       "      <td>0</td>\n",
       "      <td>2</td>\n",
       "      <td>1</td>\n",
       "      <td>0</td>\n",
       "      <td>5</td>\n",
       "      <td>2020</td>\n",
       "    </tr>\n",
       "  </tbody>\n",
       "</table>\n",
       "<p>385 rows × 8 columns</p>\n",
       "</div>"
      ],
      "text/plain": [
       "     white_pop  black_pop  ind_alk_pop  asian_pop  haw_isl_pop  other_pop  \\\n",
       "0          398       3583           15         27            0        500   \n",
       "1          257       2821           11         30            0        121   \n",
       "2         4073        272           18        388            3         96   \n",
       "3          432       2301            4         41            0         32   \n",
       "4         2128       2827           36        108           10        486   \n",
       "..         ...        ...          ...        ...          ...        ...   \n",
       "201         74       3055           11         12            0         53   \n",
       "202       1046        941            6        139            0         53   \n",
       "203       1226        361            4         97            0         35   \n",
       "204        694       4446           36         85            3        240   \n",
       "205         48        114            0          2            1          0   \n",
       "\n",
       "     tot_hisp_pop  year  \n",
       "0             724  2010  \n",
       "1             235  2010  \n",
       "2             399  2010  \n",
       "3             113  2010  \n",
       "4             831  2010  \n",
       "..            ...   ...  \n",
       "201           106  2020  \n",
       "202           182  2020  \n",
       "203           122  2020  \n",
       "204           472  2020  \n",
       "205             5  2020  \n",
       "\n",
       "[385 rows x 8 columns]"
      ]
     },
     "execution_count": 37,
     "metadata": {},
     "output_type": "execute_result"
    }
   ],
   "source": [
    "#pickk the race columns and year\n",
    "census_race_df = comb_census_df[['white_pop', 'black_pop', 'ind_alk_pop', 'asian_pop','haw_isl_pop', 'other_pop', 'tot_hisp_pop','year']]\n",
    "census_race_df"
   ]
  },
  {
   "cell_type": "code",
   "execution_count": 38,
   "id": "e83b5fcf",
   "metadata": {
    "scrolled": false
   },
   "outputs": [
    {
     "data": {
      "text/html": [
       "<div>\n",
       "<style scoped>\n",
       "    .dataframe tbody tr th:only-of-type {\n",
       "        vertical-align: middle;\n",
       "    }\n",
       "\n",
       "    .dataframe tbody tr th {\n",
       "        vertical-align: top;\n",
       "    }\n",
       "\n",
       "    .dataframe thead th {\n",
       "        text-align: right;\n",
       "    }\n",
       "</style>\n",
       "<table border=\"1\" class=\"dataframe\">\n",
       "  <thead>\n",
       "    <tr style=\"text-align: right;\">\n",
       "      <th></th>\n",
       "      <th>white_pop</th>\n",
       "      <th>black_pop</th>\n",
       "      <th>ind_alk_pop</th>\n",
       "      <th>asian_pop</th>\n",
       "      <th>haw_isl_pop</th>\n",
       "      <th>other_pop</th>\n",
       "      <th>tot_hisp_pop</th>\n",
       "    </tr>\n",
       "    <tr>\n",
       "      <th>year</th>\n",
       "      <th></th>\n",
       "      <th></th>\n",
       "      <th></th>\n",
       "      <th></th>\n",
       "      <th></th>\n",
       "      <th></th>\n",
       "      <th></th>\n",
       "    </tr>\n",
       "  </thead>\n",
       "  <tbody>\n",
       "    <tr>\n",
       "      <th>2010</th>\n",
       "      <td>231471</td>\n",
       "      <td>305125</td>\n",
       "      <td>2079</td>\n",
       "      <td>21056</td>\n",
       "      <td>302</td>\n",
       "      <td>24374</td>\n",
       "      <td>54749</td>\n",
       "    </tr>\n",
       "    <tr>\n",
       "      <th>2020</th>\n",
       "      <td>273194</td>\n",
       "      <td>285810</td>\n",
       "      <td>3193</td>\n",
       "      <td>33545</td>\n",
       "      <td>432</td>\n",
       "      <td>37294</td>\n",
       "      <td>77652</td>\n",
       "    </tr>\n",
       "  </tbody>\n",
       "</table>\n",
       "</div>"
      ],
      "text/plain": [
       "      white_pop  black_pop  ind_alk_pop  asian_pop  haw_isl_pop  other_pop  \\\n",
       "year                                                                         \n",
       "2010     231471     305125         2079      21056          302      24374   \n",
       "2020     273194     285810         3193      33545          432      37294   \n",
       "\n",
       "      tot_hisp_pop  \n",
       "year                \n",
       "2010         54749  \n",
       "2020         77652  "
      ]
     },
     "execution_count": 38,
     "metadata": {},
     "output_type": "execute_result"
    }
   ],
   "source": [
    "census_race_df.groupby('year').sum()"
   ]
  },
  {
   "cell_type": "code",
   "execution_count": 39,
   "id": "344f5b4d",
   "metadata": {
    "scrolled": true
   },
   "outputs": [
    {
     "data": {
      "image/png": "[encoded data removed]",
      "text/plain": [
       "<Figure size 720x360 with 1 Axes>"
      ]
     },
     "metadata": {
      "needs_background": "light"
     },
     "output_type": "display_data"
    }
   ],
   "source": [
    "census_race_df.groupby('year').sum().plot.bar(figsize=(10,5), grid=True)\n",
    "plt.title('Race Demographics D.C, 2010 and 2020 census')\n",
    "plt.xlabel('Census Year')\n",
    "plt.ylabel('population')\n",
    "plt.show()"
   ]
  },
  {
   "cell_type": "markdown",
   "id": "d6fc0d2f",
   "metadata": {},
   "source": [
    "### Analysis  \n",
    "Census data shows that black population decreased and white population increased from 2010 to 2020. We also see a noticiable increase in the hispanic population from 55,749 to 77,652. "
   ]
  },
  {
   "cell_type": "code",
   "execution_count": 40,
   "id": "951027b6",
   "metadata": {
    "scrolled": false
   },
   "outputs": [
    {
     "data": {
      "text/html": [
       "<div>\n",
       "<style scoped>\n",
       "    .dataframe tbody tr th:only-of-type {\n",
       "        vertical-align: middle;\n",
       "    }\n",
       "\n",
       "    .dataframe tbody tr th {\n",
       "        vertical-align: top;\n",
       "    }\n",
       "\n",
       "    .dataframe thead th {\n",
       "        text-align: right;\n",
       "    }\n",
       "</style>\n",
       "<table border=\"1\" class=\"dataframe\">\n",
       "  <thead>\n",
       "    <tr style=\"text-align: right;\">\n",
       "      <th></th>\n",
       "      <th>white_pop</th>\n",
       "      <th>black_pop</th>\n",
       "      <th>ind_alk_pop</th>\n",
       "      <th>asian_pop</th>\n",
       "      <th>haw_isl_pop</th>\n",
       "      <th>other_pop</th>\n",
       "      <th>tot_hisp_pop</th>\n",
       "      <th>WARD</th>\n",
       "      <th>year</th>\n",
       "    </tr>\n",
       "  </thead>\n",
       "  <tbody>\n",
       "    <tr>\n",
       "      <th>0</th>\n",
       "      <td>398</td>\n",
       "      <td>3583</td>\n",
       "      <td>15</td>\n",
       "      <td>27</td>\n",
       "      <td>0</td>\n",
       "      <td>500</td>\n",
       "      <td>724</td>\n",
       "      <td>4</td>\n",
       "      <td>2010</td>\n",
       "    </tr>\n",
       "    <tr>\n",
       "      <th>1</th>\n",
       "      <td>257</td>\n",
       "      <td>2821</td>\n",
       "      <td>11</td>\n",
       "      <td>30</td>\n",
       "      <td>0</td>\n",
       "      <td>121</td>\n",
       "      <td>235</td>\n",
       "      <td>5</td>\n",
       "      <td>2010</td>\n",
       "    </tr>\n",
       "    <tr>\n",
       "      <th>2</th>\n",
       "      <td>4073</td>\n",
       "      <td>272</td>\n",
       "      <td>18</td>\n",
       "      <td>388</td>\n",
       "      <td>3</td>\n",
       "      <td>96</td>\n",
       "      <td>399</td>\n",
       "      <td>3</td>\n",
       "      <td>2010</td>\n",
       "    </tr>\n",
       "    <tr>\n",
       "      <th>3</th>\n",
       "      <td>432</td>\n",
       "      <td>2301</td>\n",
       "      <td>4</td>\n",
       "      <td>41</td>\n",
       "      <td>0</td>\n",
       "      <td>32</td>\n",
       "      <td>113</td>\n",
       "      <td>5</td>\n",
       "      <td>2010</td>\n",
       "    </tr>\n",
       "    <tr>\n",
       "      <th>4</th>\n",
       "      <td>2128</td>\n",
       "      <td>2827</td>\n",
       "      <td>36</td>\n",
       "      <td>108</td>\n",
       "      <td>10</td>\n",
       "      <td>486</td>\n",
       "      <td>831</td>\n",
       "      <td>5</td>\n",
       "      <td>2010</td>\n",
       "    </tr>\n",
       "    <tr>\n",
       "      <th>...</th>\n",
       "      <td>...</td>\n",
       "      <td>...</td>\n",
       "      <td>...</td>\n",
       "      <td>...</td>\n",
       "      <td>...</td>\n",
       "      <td>...</td>\n",
       "      <td>...</td>\n",
       "      <td>...</td>\n",
       "      <td>...</td>\n",
       "    </tr>\n",
       "    <tr>\n",
       "      <th>201</th>\n",
       "      <td>74</td>\n",
       "      <td>3055</td>\n",
       "      <td>11</td>\n",
       "      <td>12</td>\n",
       "      <td>0</td>\n",
       "      <td>53</td>\n",
       "      <td>106</td>\n",
       "      <td>8</td>\n",
       "      <td>2020</td>\n",
       "    </tr>\n",
       "    <tr>\n",
       "      <th>202</th>\n",
       "      <td>1046</td>\n",
       "      <td>941</td>\n",
       "      <td>6</td>\n",
       "      <td>139</td>\n",
       "      <td>0</td>\n",
       "      <td>53</td>\n",
       "      <td>182</td>\n",
       "      <td>6</td>\n",
       "      <td>2020</td>\n",
       "    </tr>\n",
       "    <tr>\n",
       "      <th>203</th>\n",
       "      <td>1226</td>\n",
       "      <td>361</td>\n",
       "      <td>4</td>\n",
       "      <td>97</td>\n",
       "      <td>0</td>\n",
       "      <td>35</td>\n",
       "      <td>122</td>\n",
       "      <td>6</td>\n",
       "      <td>2020</td>\n",
       "    </tr>\n",
       "    <tr>\n",
       "      <th>204</th>\n",
       "      <td>694</td>\n",
       "      <td>4446</td>\n",
       "      <td>36</td>\n",
       "      <td>85</td>\n",
       "      <td>3</td>\n",
       "      <td>240</td>\n",
       "      <td>472</td>\n",
       "      <td>5</td>\n",
       "      <td>2020</td>\n",
       "    </tr>\n",
       "    <tr>\n",
       "      <th>205</th>\n",
       "      <td>48</td>\n",
       "      <td>114</td>\n",
       "      <td>0</td>\n",
       "      <td>2</td>\n",
       "      <td>1</td>\n",
       "      <td>0</td>\n",
       "      <td>5</td>\n",
       "      <td>2</td>\n",
       "      <td>2020</td>\n",
       "    </tr>\n",
       "  </tbody>\n",
       "</table>\n",
       "<p>385 rows × 9 columns</p>\n",
       "</div>"
      ],
      "text/plain": [
       "     white_pop  black_pop  ind_alk_pop  asian_pop  haw_isl_pop  other_pop  \\\n",
       "0          398       3583           15         27            0        500   \n",
       "1          257       2821           11         30            0        121   \n",
       "2         4073        272           18        388            3         96   \n",
       "3          432       2301            4         41            0         32   \n",
       "4         2128       2827           36        108           10        486   \n",
       "..         ...        ...          ...        ...          ...        ...   \n",
       "201         74       3055           11         12            0         53   \n",
       "202       1046        941            6        139            0         53   \n",
       "203       1226        361            4         97            0         35   \n",
       "204        694       4446           36         85            3        240   \n",
       "205         48        114            0          2            1          0   \n",
       "\n",
       "     tot_hisp_pop  WARD  year  \n",
       "0             724     4  2010  \n",
       "1             235     5  2010  \n",
       "2             399     3  2010  \n",
       "3             113     5  2010  \n",
       "4             831     5  2010  \n",
       "..            ...   ...   ...  \n",
       "201           106     8  2020  \n",
       "202           182     6  2020  \n",
       "203           122     6  2020  \n",
       "204           472     5  2020  \n",
       "205             5     2  2020  \n",
       "\n",
       "[385 rows x 9 columns]"
      ]
     },
     "execution_count": 40,
     "metadata": {},
     "output_type": "execute_result"
    }
   ],
   "source": [
    "census_race_df = comb_census_df[['white_pop', 'black_pop', 'ind_alk_pop', 'asian_pop','haw_isl_pop', 'other_pop', 'tot_hisp_pop','WARD','year']]\n",
    "census_race_df"
   ]
  },
  {
   "cell_type": "code",
   "execution_count": 41,
   "id": "d5ca6908",
   "metadata": {
    "scrolled": false
   },
   "outputs": [
    {
     "data": {
      "image/png": "[encoded data removed]",
      "text/plain": [
       "<Figure size 1080x720 with 1 Axes>"
      ]
     },
     "metadata": {
      "needs_background": "light"
     },
     "output_type": "display_data"
    }
   ],
   "source": [
    "census_race_df.groupby(['year','WARD']).sum().plot.bar(figsize=(15,10), grid=True)\n",
    "plt.title('Race Demographics D.C, 2010 and 2020 census by Year,Ward')\n",
    "plt.xlabel('Year, WARD')\n",
    "plt.ylabel('population')\n",
    "plt.show()"
   ]
  },
  {
   "cell_type": "markdown",
   "id": "cf9ace6e",
   "metadata": {},
   "source": [
    "### Analysis  \n",
    "Ward 2 and 3 have high white population with slight decrease from 2010 to 2020. Ward 7,8 have high black pouplation and not much change from 2010 to 2020. Ward 6 shows a significant incerase in white poulation from 2010 to 2020. Ward 5 also shows a large incerase in white poulation from 2010 to 2020. Ward 2 and 3 shows an increase in hispanic population from 2010 to 2020."
   ]
  },
  {
   "cell_type": "markdown",
   "id": "733a0202",
   "metadata": {},
   "source": [
    "## Analyze housing units using 2010 and 2020 census data"
   ]
  },
  {
   "cell_type": "code",
   "execution_count": 42,
   "id": "b7a25ae0",
   "metadata": {
    "scrolled": false
   },
   "outputs": [
    {
     "data": {
      "text/html": [
       "<div>\n",
       "<style scoped>\n",
       "    .dataframe tbody tr th:only-of-type {\n",
       "        vertical-align: middle;\n",
       "    }\n",
       "\n",
       "    .dataframe tbody tr th {\n",
       "        vertical-align: top;\n",
       "    }\n",
       "\n",
       "    .dataframe thead th {\n",
       "        text-align: right;\n",
       "    }\n",
       "</style>\n",
       "<table border=\"1\" class=\"dataframe\">\n",
       "  <thead>\n",
       "    <tr style=\"text-align: right;\">\n",
       "      <th></th>\n",
       "      <th>housing_units_total</th>\n",
       "      <th>occupied_housing_units</th>\n",
       "      <th>WARD</th>\n",
       "      <th>year</th>\n",
       "    </tr>\n",
       "  </thead>\n",
       "  <tbody>\n",
       "    <tr>\n",
       "      <th>0</th>\n",
       "      <td>2173</td>\n",
       "      <td>1900</td>\n",
       "      <td>4</td>\n",
       "      <td>2010</td>\n",
       "    </tr>\n",
       "    <tr>\n",
       "      <th>1</th>\n",
       "      <td>1742</td>\n",
       "      <td>1578</td>\n",
       "      <td>5</td>\n",
       "      <td>2010</td>\n",
       "    </tr>\n",
       "    <tr>\n",
       "      <th>2</th>\n",
       "      <td>2633</td>\n",
       "      <td>2516</td>\n",
       "      <td>3</td>\n",
       "      <td>2010</td>\n",
       "    </tr>\n",
       "    <tr>\n",
       "      <th>3</th>\n",
       "      <td>1256</td>\n",
       "      <td>1200</td>\n",
       "      <td>5</td>\n",
       "      <td>2010</td>\n",
       "    </tr>\n",
       "    <tr>\n",
       "      <th>4</th>\n",
       "      <td>1954</td>\n",
       "      <td>1802</td>\n",
       "      <td>5</td>\n",
       "      <td>2010</td>\n",
       "    </tr>\n",
       "    <tr>\n",
       "      <th>...</th>\n",
       "      <td>...</td>\n",
       "      <td>...</td>\n",
       "      <td>...</td>\n",
       "      <td>...</td>\n",
       "    </tr>\n",
       "    <tr>\n",
       "      <th>201</th>\n",
       "      <td>1378</td>\n",
       "      <td>1268</td>\n",
       "      <td>8</td>\n",
       "      <td>2020</td>\n",
       "    </tr>\n",
       "    <tr>\n",
       "      <th>202</th>\n",
       "      <td>1636</td>\n",
       "      <td>1479</td>\n",
       "      <td>6</td>\n",
       "      <td>2020</td>\n",
       "    </tr>\n",
       "    <tr>\n",
       "      <th>203</th>\n",
       "      <td>1471</td>\n",
       "      <td>1307</td>\n",
       "      <td>6</td>\n",
       "      <td>2020</td>\n",
       "    </tr>\n",
       "    <tr>\n",
       "      <th>204</th>\n",
       "      <td>1952</td>\n",
       "      <td>1801</td>\n",
       "      <td>5</td>\n",
       "      <td>2020</td>\n",
       "    </tr>\n",
       "    <tr>\n",
       "      <th>205</th>\n",
       "      <td>12</td>\n",
       "      <td>8</td>\n",
       "      <td>2</td>\n",
       "      <td>2020</td>\n",
       "    </tr>\n",
       "  </tbody>\n",
       "</table>\n",
       "<p>385 rows × 4 columns</p>\n",
       "</div>"
      ],
      "text/plain": [
       "     housing_units_total  occupied_housing_units  WARD  year\n",
       "0                   2173                    1900     4  2010\n",
       "1                   1742                    1578     5  2010\n",
       "2                   2633                    2516     3  2010\n",
       "3                   1256                    1200     5  2010\n",
       "4                   1954                    1802     5  2010\n",
       "..                   ...                     ...   ...   ...\n",
       "201                 1378                    1268     8  2020\n",
       "202                 1636                    1479     6  2020\n",
       "203                 1471                    1307     6  2020\n",
       "204                 1952                    1801     5  2020\n",
       "205                   12                       8     2  2020\n",
       "\n",
       "[385 rows x 4 columns]"
      ]
     },
     "execution_count": 42,
     "metadata": {},
     "output_type": "execute_result"
    }
   ],
   "source": [
    "census_housing_df = comb_census_df[['housing_units_total','occupied_housing_units','WARD','year']]\n",
    "census_housing_df"
   ]
  },
  {
   "cell_type": "code",
   "execution_count": 43,
   "id": "8aa91c18",
   "metadata": {
    "scrolled": false
   },
   "outputs": [
    {
     "data": {
      "image/png": "[encoded data removed]",
      "text/plain": [
       "<Figure size 720x360 with 1 Axes>"
      ]
     },
     "metadata": {
      "needs_background": "light"
     },
     "output_type": "display_data"
    }
   ],
   "source": [
    "census_housing_df.groupby(['year','WARD']).sum().plot.bar(figsize=(10,5), grid=True)\n",
    "plt.title('Housing units in D.C, 2010 and 2020 census year and WARD')\n",
    "plt.xlabel('Census year, Ward')\n",
    "plt.ylabel('Housing units')\n",
    "plt.show()"
   ]
  },
  {
   "cell_type": "markdown",
   "id": "7ffbf759",
   "metadata": {},
   "source": [
    "### Analysis  \n",
    "Most housing units are in Ward 2. Ward 6 shows a big increase in housing units in 2020 suggesting higher redevelopment from 2010 to 2020. There is a noticeable increase in housing units for wards 1, 5, 7 an 8. Redevelopment stayed about the same for wards 1 and 2."
   ]
  },
  {
   "cell_type": "code",
   "execution_count": 44,
   "id": "7ce33f0d",
   "metadata": {},
   "outputs": [
    {
     "data": {
      "text/html": [
       "<div>\n",
       "<style scoped>\n",
       "    .dataframe tbody tr th:only-of-type {\n",
       "        vertical-align: middle;\n",
       "    }\n",
       "\n",
       "    .dataframe tbody tr th {\n",
       "        vertical-align: top;\n",
       "    }\n",
       "\n",
       "    .dataframe thead th {\n",
       "        text-align: right;\n",
       "    }\n",
       "</style>\n",
       "<table border=\"1\" class=\"dataframe\">\n",
       "  <thead>\n",
       "    <tr style=\"text-align: right;\">\n",
       "      <th></th>\n",
       "      <th>housing_units_total</th>\n",
       "      <th>occupied_housing_units</th>\n",
       "    </tr>\n",
       "    <tr>\n",
       "      <th>year</th>\n",
       "      <th></th>\n",
       "      <th></th>\n",
       "    </tr>\n",
       "  </thead>\n",
       "  <tbody>\n",
       "    <tr>\n",
       "      <th>2010</th>\n",
       "      <td>296719</td>\n",
       "      <td>266707</td>\n",
       "    </tr>\n",
       "    <tr>\n",
       "      <th>2020</th>\n",
       "      <td>350364</td>\n",
       "      <td>312448</td>\n",
       "    </tr>\n",
       "  </tbody>\n",
       "</table>\n",
       "</div>"
      ],
      "text/plain": [
       "      housing_units_total  occupied_housing_units\n",
       "year                                             \n",
       "2010               296719                  266707\n",
       "2020               350364                  312448"
      ]
     },
     "execution_count": 44,
     "metadata": {},
     "output_type": "execute_result"
    }
   ],
   "source": [
    "#remove WARD column and graph housing per census years\n",
    "census_housing_df = comb_census_df[['housing_units_total','occupied_housing_units','year']]\n",
    "census_housing_df.groupby(['year']).sum()"
   ]
  },
  {
   "cell_type": "code",
   "execution_count": 45,
   "id": "3fa93e88",
   "metadata": {
    "scrolled": false
   },
   "outputs": [
    {
     "data": {
      "image/png": "[encoded data removed]",
      "text/plain": [
       "<Figure size 720x360 with 1 Axes>"
      ]
     },
     "metadata": {
      "needs_background": "light"
     },
     "output_type": "display_data"
    }
   ],
   "source": [
    "census_housing_df.groupby(['year']).sum().plot.bar(figsize=(10,5), grid=True)\n",
    "plt.title('Housing units in D.C, 2010 and 2020 census')\n",
    "plt.xlabel('Census year')\n",
    "plt.ylabel('Housing units')\n",
    "plt.show()"
   ]
  },
  {
   "cell_type": "markdown",
   "id": "8afc360a",
   "metadata": {},
   "source": [
    "### Analysis  \n",
    "Occupied housing units increased about 46 thousand units from 2010 to 2020"
   ]
  },
  {
   "cell_type": "markdown",
   "id": "44c58ffc",
   "metadata": {
    "scrolled": true
   },
   "source": [
    "### Analyze the builders that has the most new development permits"
   ]
  },
  {
   "cell_type": "code",
   "execution_count": 46,
   "id": "49558a87",
   "metadata": {
    "scrolled": false
   },
   "outputs": [
    {
     "data": {
      "text/html": [
       "<div>\n",
       "<style scoped>\n",
       "    .dataframe tbody tr th:only-of-type {\n",
       "        vertical-align: middle;\n",
       "    }\n",
       "\n",
       "    .dataframe tbody tr th {\n",
       "        vertical-align: top;\n",
       "    }\n",
       "\n",
       "    .dataframe thead th {\n",
       "        text-align: right;\n",
       "    }\n",
       "</style>\n",
       "<table border=\"1\" class=\"dataframe\">\n",
       "  <thead>\n",
       "    <tr style=\"text-align: right;\">\n",
       "      <th></th>\n",
       "      <th>ISSUE_DATE</th>\n",
       "      <th>PERMIT_TYPE_NAME</th>\n",
       "      <th>PERMIT_SUBTYPE_NAME</th>\n",
       "      <th>APPLICATION_STATUS_NAME</th>\n",
       "      <th>PERMIT_APPLICANT</th>\n",
       "      <th>WARD</th>\n",
       "      <th>year</th>\n",
       "    </tr>\n",
       "  </thead>\n",
       "  <tbody>\n",
       "    <tr>\n",
       "      <th>0</th>\n",
       "      <td>2010-12-28</td>\n",
       "      <td>CONSTRUCTION</td>\n",
       "      <td>ADDITION</td>\n",
       "      <td>COMPLETED</td>\n",
       "      <td>CITY ENGINEERS INC.</td>\n",
       "      <td>6</td>\n",
       "      <td>2010</td>\n",
       "    </tr>\n",
       "    <tr>\n",
       "      <th>1</th>\n",
       "      <td>2010-01-19</td>\n",
       "      <td>CONSTRUCTION</td>\n",
       "      <td>ADDITION</td>\n",
       "      <td>PERMIT ISSUED</td>\n",
       "      <td>THUY  LEE; FORT LINCOLN-P</td>\n",
       "      <td>5</td>\n",
       "      <td>2010</td>\n",
       "    </tr>\n",
       "    <tr>\n",
       "      <th>2</th>\n",
       "      <td>2010-12-23</td>\n",
       "      <td>CONSTRUCTION</td>\n",
       "      <td>ADDITION</td>\n",
       "      <td>PERMIT ISSUED</td>\n",
       "      <td>MAX  CHAIKIN 5213 B STREE</td>\n",
       "      <td>7</td>\n",
       "      <td>2010</td>\n",
       "    </tr>\n",
       "    <tr>\n",
       "      <th>3</th>\n",
       "      <td>2010-09-20</td>\n",
       "      <td>CONSTRUCTION</td>\n",
       "      <td>NEW BUILDING</td>\n",
       "      <td>COMPLETED</td>\n",
       "      <td>SPORTS ZONE INC  SPORTS Z</td>\n",
       "      <td>1</td>\n",
       "      <td>2010</td>\n",
       "    </tr>\n",
       "    <tr>\n",
       "      <th>4</th>\n",
       "      <td>2010-04-15</td>\n",
       "      <td>CONSTRUCTION</td>\n",
       "      <td>NEW BUILDING</td>\n",
       "      <td>COMPLETED</td>\n",
       "      <td>BROOKLAND ART SPACE LOFTS</td>\n",
       "      <td>5</td>\n",
       "      <td>2010</td>\n",
       "    </tr>\n",
       "    <tr>\n",
       "      <th>...</th>\n",
       "      <td>...</td>\n",
       "      <td>...</td>\n",
       "      <td>...</td>\n",
       "      <td>...</td>\n",
       "      <td>...</td>\n",
       "      <td>...</td>\n",
       "      <td>...</td>\n",
       "    </tr>\n",
       "    <tr>\n",
       "      <th>1161</th>\n",
       "      <td>2022-05-10</td>\n",
       "      <td>CONSTRUCTION</td>\n",
       "      <td>NEW BUILDING</td>\n",
       "      <td>PERMIT ISSUED</td>\n",
       "      <td>WILL  TEASS; OX BUILDERS</td>\n",
       "      <td>6</td>\n",
       "      <td>2022</td>\n",
       "    </tr>\n",
       "    <tr>\n",
       "      <th>1162</th>\n",
       "      <td>2022-01-04</td>\n",
       "      <td>CONSTRUCTION</td>\n",
       "      <td>NEW BUILDING</td>\n",
       "      <td>PERMIT ISSUED</td>\n",
       "      <td>KIM  MITCHELL; MARLBORO C</td>\n",
       "      <td>6</td>\n",
       "      <td>2022</td>\n",
       "    </tr>\n",
       "    <tr>\n",
       "      <th>1163</th>\n",
       "      <td>2022-01-07</td>\n",
       "      <td>CONSTRUCTION</td>\n",
       "      <td>NEW BUILDING</td>\n",
       "      <td>PERMIT ISSUED</td>\n",
       "      <td>HALIL  ATES; DILA DEVELOP</td>\n",
       "      <td>6</td>\n",
       "      <td>2022</td>\n",
       "    </tr>\n",
       "    <tr>\n",
       "      <th>1164</th>\n",
       "      <td>2022-07-19</td>\n",
       "      <td>CONSTRUCTION</td>\n",
       "      <td>NEW BUILDING</td>\n",
       "      <td>PERMIT ISSUED</td>\n",
       "      <td>DFM DEVELOPMENT  SERVICES</td>\n",
       "      <td>3</td>\n",
       "      <td>2022</td>\n",
       "    </tr>\n",
       "    <tr>\n",
       "      <th>1165</th>\n",
       "      <td>2022-07-15</td>\n",
       "      <td>CONSTRUCTION</td>\n",
       "      <td>NEW BUILDING</td>\n",
       "      <td>PERMIT ISSUED</td>\n",
       "      <td>OUTERBRIDGE  HORSEY; PETE</td>\n",
       "      <td>3</td>\n",
       "      <td>2022</td>\n",
       "    </tr>\n",
       "  </tbody>\n",
       "</table>\n",
       "<p>1166 rows × 7 columns</p>\n",
       "</div>"
      ],
      "text/plain": [
       "     ISSUE_DATE PERMIT_TYPE_NAME PERMIT_SUBTYPE_NAME APPLICATION_STATUS_NAME  \\\n",
       "0    2010-12-28     CONSTRUCTION            ADDITION               COMPLETED   \n",
       "1    2010-01-19     CONSTRUCTION            ADDITION           PERMIT ISSUED   \n",
       "2    2010-12-23     CONSTRUCTION            ADDITION           PERMIT ISSUED   \n",
       "3    2010-09-20     CONSTRUCTION        NEW BUILDING               COMPLETED   \n",
       "4    2010-04-15     CONSTRUCTION        NEW BUILDING               COMPLETED   \n",
       "...         ...              ...                 ...                     ...   \n",
       "1161 2022-05-10     CONSTRUCTION        NEW BUILDING           PERMIT ISSUED   \n",
       "1162 2022-01-04     CONSTRUCTION        NEW BUILDING           PERMIT ISSUED   \n",
       "1163 2022-01-07     CONSTRUCTION        NEW BUILDING           PERMIT ISSUED   \n",
       "1164 2022-07-19     CONSTRUCTION        NEW BUILDING           PERMIT ISSUED   \n",
       "1165 2022-07-15     CONSTRUCTION        NEW BUILDING           PERMIT ISSUED   \n",
       "\n",
       "               PERMIT_APPLICANT  WARD  year  \n",
       "0           CITY ENGINEERS INC.     6  2010  \n",
       "1     THUY  LEE; FORT LINCOLN-P     5  2010  \n",
       "2     MAX  CHAIKIN 5213 B STREE     7  2010  \n",
       "3     SPORTS ZONE INC  SPORTS Z     1  2010  \n",
       "4     BROOKLAND ART SPACE LOFTS     5  2010  \n",
       "...                         ...   ...   ...  \n",
       "1161  WILL  TEASS; OX BUILDERS      6  2022  \n",
       "1162  KIM  MITCHELL; MARLBORO C     6  2022  \n",
       "1163  HALIL  ATES; DILA DEVELOP     6  2022  \n",
       "1164  DFM DEVELOPMENT  SERVICES     3  2022  \n",
       "1165  OUTERBRIDGE  HORSEY; PETE     3  2022  \n",
       "\n",
       "[1166 rows x 7 columns]"
      ]
     },
     "execution_count": 46,
     "metadata": {},
     "output_type": "execute_result"
    }
   ],
   "source": [
    "# Create a new datafrome with the permit applicants that has the following terms in their names\n",
    "# These are the companies rather than individual permit applicants\n",
    "builder_df = comb_permit_df.copy()\n",
    "search_terms=['LLC', 'GROUP','INC','COMPANY','COOPERATIVE']\n",
    "builder_df = builder_df[builder_df.PERMIT_APPLICANT.str.contains('|'.join(search_terms))]\n",
    "builder_df = builder_df.reset_index(drop=True)\n",
    "\n",
    "#Truncate permit applicant names to only first 25 chracters\n",
    "for i,n in enumerate(builder_df.PERMIT_APPLICANT):\n",
    "    builder_df.at[i,'PERMIT_APPLICANT'] = n[:25]\n",
    "builder_df"
   ]
  },
  {
   "cell_type": "code",
   "execution_count": 47,
   "id": "36481b6b",
   "metadata": {
    "scrolled": false
   },
   "outputs": [
    {
     "data": {
      "text/html": [
       "<div>\n",
       "<style scoped>\n",
       "    .dataframe tbody tr th:only-of-type {\n",
       "        vertical-align: middle;\n",
       "    }\n",
       "\n",
       "    .dataframe tbody tr th {\n",
       "        vertical-align: top;\n",
       "    }\n",
       "\n",
       "    .dataframe thead th {\n",
       "        text-align: right;\n",
       "    }\n",
       "</style>\n",
       "<table border=\"1\" class=\"dataframe\">\n",
       "  <thead>\n",
       "    <tr style=\"text-align: right;\">\n",
       "      <th></th>\n",
       "      <th>ISSUE_DATE</th>\n",
       "      <th>PERMIT_TYPE_NAME</th>\n",
       "      <th>PERMIT_SUBTYPE_NAME</th>\n",
       "      <th>APPLICATION_STATUS_NAME</th>\n",
       "      <th>PERMIT_APPLICANT</th>\n",
       "      <th>WARD</th>\n",
       "      <th>year</th>\n",
       "    </tr>\n",
       "  </thead>\n",
       "  <tbody>\n",
       "    <tr>\n",
       "      <th>0</th>\n",
       "      <td>2012-06-27</td>\n",
       "      <td>CONSTRUCTION</td>\n",
       "      <td>NEW BUILDING</td>\n",
       "      <td>PERMIT ISSUED</td>\n",
       "      <td>FORT LINCOLN-GATEWAY VILL</td>\n",
       "      <td>5</td>\n",
       "      <td>2012</td>\n",
       "    </tr>\n",
       "    <tr>\n",
       "      <th>1</th>\n",
       "      <td>2012-06-27</td>\n",
       "      <td>CONSTRUCTION</td>\n",
       "      <td>NEW BUILDING</td>\n",
       "      <td>PERMIT ISSUED</td>\n",
       "      <td>FORT LINCOLN-GATEWAY VILL</td>\n",
       "      <td>5</td>\n",
       "      <td>2012</td>\n",
       "    </tr>\n",
       "    <tr>\n",
       "      <th>2</th>\n",
       "      <td>2012-06-27</td>\n",
       "      <td>CONSTRUCTION</td>\n",
       "      <td>NEW BUILDING</td>\n",
       "      <td>PERMIT ISSUED</td>\n",
       "      <td>FORT LINCOLN-GATEWAY VILL</td>\n",
       "      <td>5</td>\n",
       "      <td>2012</td>\n",
       "    </tr>\n",
       "    <tr>\n",
       "      <th>3</th>\n",
       "      <td>2012-06-27</td>\n",
       "      <td>CONSTRUCTION</td>\n",
       "      <td>NEW BUILDING</td>\n",
       "      <td>PERMIT ISSUED</td>\n",
       "      <td>FORT LINCOLN-GATEWAY VILL</td>\n",
       "      <td>5</td>\n",
       "      <td>2012</td>\n",
       "    </tr>\n",
       "    <tr>\n",
       "      <th>4</th>\n",
       "      <td>2012-06-27</td>\n",
       "      <td>CONSTRUCTION</td>\n",
       "      <td>NEW BUILDING</td>\n",
       "      <td>PERMIT ISSUED</td>\n",
       "      <td>FORT LINCOLN-GATEWAY VILL</td>\n",
       "      <td>5</td>\n",
       "      <td>2012</td>\n",
       "    </tr>\n",
       "    <tr>\n",
       "      <th>...</th>\n",
       "      <td>...</td>\n",
       "      <td>...</td>\n",
       "      <td>...</td>\n",
       "      <td>...</td>\n",
       "      <td>...</td>\n",
       "      <td>...</td>\n",
       "      <td>...</td>\n",
       "    </tr>\n",
       "    <tr>\n",
       "      <th>474</th>\n",
       "      <td>2022-10-31</td>\n",
       "      <td>CONSTRUCTION</td>\n",
       "      <td>NEW BUILDING</td>\n",
       "      <td>PERMIT ISSUED</td>\n",
       "      <td>DAVID T FONTANA; NVR INC</td>\n",
       "      <td>6</td>\n",
       "      <td>2022</td>\n",
       "    </tr>\n",
       "    <tr>\n",
       "      <th>475</th>\n",
       "      <td>2022-10-12</td>\n",
       "      <td>CONSTRUCTION</td>\n",
       "      <td>NEW BUILDING</td>\n",
       "      <td>PERMIT ISSUED</td>\n",
       "      <td>IAN AND LEON  COMMUN-ET L</td>\n",
       "      <td>7</td>\n",
       "      <td>2022</td>\n",
       "    </tr>\n",
       "    <tr>\n",
       "      <th>476</th>\n",
       "      <td>2022-10-12</td>\n",
       "      <td>CONSTRUCTION</td>\n",
       "      <td>NEW BUILDING</td>\n",
       "      <td>PERMIT ISSUED</td>\n",
       "      <td>DFM DEVELOPMENT  SERVICES</td>\n",
       "      <td>1</td>\n",
       "      <td>2022</td>\n",
       "    </tr>\n",
       "    <tr>\n",
       "      <th>477</th>\n",
       "      <td>2022-01-07</td>\n",
       "      <td>CONSTRUCTION</td>\n",
       "      <td>NEW BUILDING</td>\n",
       "      <td>PERMIT ISSUED</td>\n",
       "      <td>HALIL  ATES; DILA DEVELOP</td>\n",
       "      <td>6</td>\n",
       "      <td>2022</td>\n",
       "    </tr>\n",
       "    <tr>\n",
       "      <th>478</th>\n",
       "      <td>2022-07-19</td>\n",
       "      <td>CONSTRUCTION</td>\n",
       "      <td>NEW BUILDING</td>\n",
       "      <td>PERMIT ISSUED</td>\n",
       "      <td>DFM DEVELOPMENT  SERVICES</td>\n",
       "      <td>3</td>\n",
       "      <td>2022</td>\n",
       "    </tr>\n",
       "  </tbody>\n",
       "</table>\n",
       "<p>479 rows × 7 columns</p>\n",
       "</div>"
      ],
      "text/plain": [
       "    ISSUE_DATE PERMIT_TYPE_NAME PERMIT_SUBTYPE_NAME APPLICATION_STATUS_NAME  \\\n",
       "0   2012-06-27     CONSTRUCTION        NEW BUILDING           PERMIT ISSUED   \n",
       "1   2012-06-27     CONSTRUCTION        NEW BUILDING           PERMIT ISSUED   \n",
       "2   2012-06-27     CONSTRUCTION        NEW BUILDING           PERMIT ISSUED   \n",
       "3   2012-06-27     CONSTRUCTION        NEW BUILDING           PERMIT ISSUED   \n",
       "4   2012-06-27     CONSTRUCTION        NEW BUILDING           PERMIT ISSUED   \n",
       "..         ...              ...                 ...                     ...   \n",
       "474 2022-10-31     CONSTRUCTION        NEW BUILDING           PERMIT ISSUED   \n",
       "475 2022-10-12     CONSTRUCTION        NEW BUILDING           PERMIT ISSUED   \n",
       "476 2022-10-12     CONSTRUCTION        NEW BUILDING           PERMIT ISSUED   \n",
       "477 2022-01-07     CONSTRUCTION        NEW BUILDING           PERMIT ISSUED   \n",
       "478 2022-07-19     CONSTRUCTION        NEW BUILDING           PERMIT ISSUED   \n",
       "\n",
       "              PERMIT_APPLICANT  WARD  year  \n",
       "0    FORT LINCOLN-GATEWAY VILL     5  2012  \n",
       "1    FORT LINCOLN-GATEWAY VILL     5  2012  \n",
       "2    FORT LINCOLN-GATEWAY VILL     5  2012  \n",
       "3    FORT LINCOLN-GATEWAY VILL     5  2012  \n",
       "4    FORT LINCOLN-GATEWAY VILL     5  2012  \n",
       "..                         ...   ...   ...  \n",
       "474   DAVID T FONTANA; NVR INC     6  2022  \n",
       "475  IAN AND LEON  COMMUN-ET L     7  2022  \n",
       "476  DFM DEVELOPMENT  SERVICES     1  2022  \n",
       "477  HALIL  ATES; DILA DEVELOP     6  2022  \n",
       "478  DFM DEVELOPMENT  SERVICES     3  2022  \n",
       "\n",
       "[479 rows x 7 columns]"
      ]
     },
     "execution_count": 47,
     "metadata": {},
     "output_type": "execute_result"
    }
   ],
   "source": [
    "#Filter the builders/permit applicants that has more than 5 building permits from 2010 to 2022\n",
    "builder_counts = builder_df.PERMIT_APPLICANT.value_counts()\n",
    "big_builder_df = builder_df.loc[builder_df['PERMIT_APPLICANT'].isin(builder_counts.index[builder_counts >5]) ]\n",
    "big_builder_df = big_builder_df.reset_index(drop=True) #reset the index\n",
    "big_builder_df"
   ]
  },
  {
   "cell_type": "code",
   "execution_count": 48,
   "id": "36fd917a",
   "metadata": {},
   "outputs": [
    {
     "data": {
      "text/plain": [
       "PERMIT_APPLICANT\n",
       "DFM DEVELOPMENT  SERVICES    227\n",
       "FORT LINCOLN-GATEWAY VILL     46\n",
       "KIM MITCHELL  CDKM CONSUL     39\n",
       "FORT TOTTEN SOUTH LLC         28\n",
       "DON LEE  STANTON VIEW DEV     16\n",
       "COMSTOCK SIXTH STREET LLC     16\n",
       "DIX STREET COOR  REVITALI     15\n",
       "TAHER-  DISTRICT-PROPERTI     13\n",
       "BUCHANAN  HOMES ONE, LLC;      9\n",
       "PHILLIP R. PITTINGER-DUNH      9\n",
       "DAVID T FONTANA; NVR INC       8\n",
       "JEFFREY OWENS TECHNOLOGIE      8\n",
       "HALIL  ATES; DILA DEVELOP      7\n",
       "IAN AND LEON  COMMUN-ET L      7\n",
       "BASS PLACE LLC                 7\n",
       "GERALD  ROPER; ERB PROPER      6\n",
       "JANICE MILLAR MARUT; C2 C      6\n",
       "CARLOS R. IGLES  BELLO, B      6\n",
       "MADDOX ENGINEERS & SURVEY      6\n",
       "dtype: int64"
      ]
     },
     "execution_count": 48,
     "metadata": {},
     "output_type": "execute_result"
    }
   ],
   "source": [
    "#list of builders with the highest permit applications from 2010 t0 2020 (permits more 5 permits)\n",
    "big_builder_df.groupby(['PERMIT_APPLICANT']).size().sort_values(ascending=False)"
   ]
  },
  {
   "cell_type": "code",
   "execution_count": 49,
   "id": "a79ae6b7",
   "metadata": {},
   "outputs": [
    {
     "data": {
      "image/png": "[encoded data removed]",
      "text/plain": [
       "<Figure size 864x360 with 1 Axes>"
      ]
     },
     "metadata": {
      "needs_background": "light"
     },
     "output_type": "display_data"
    }
   ],
   "source": [
    "# Group by the builders and by wards\n",
    "big_builder_df.groupby(['PERMIT_APPLICANT']).WARD.value_counts().unstack().plot.bar(stacked=True,figsize=(12,5))\n",
    "plt.title('Builders with more than 5 permit applications 2010 through 2022 by Ward')\n",
    "plt.xlabel('Builder')\n",
    "plt.ylabel('Development permits')\n",
    "plt.show()"
   ]
  },
  {
   "cell_type": "markdown",
   "id": "31a0d5dd",
   "metadata": {},
   "source": [
    "### Analysis  \n",
    "DFM Development has the highest permits with 227. MOst permits were in ward 6 followed by 5. Ward 6 seems to have a lot of redevelopment whihc is also confirmed by 2020 census housing units data."
   ]
  },
  {
   "cell_type": "markdown",
   "id": "28330740",
   "metadata": {
    "scrolled": true
   },
   "source": [
    "# Find the total 5 constructor in the DC in each year:"
   ]
  },
  {
   "cell_type": "code",
   "execution_count": 50,
   "id": "0c844c58",
   "metadata": {},
   "outputs": [
    {
     "data": {
      "image/png": "[encoded data removed]",
      "text/plain": [
       "<Figure size 432x288 with 1 Axes>"
      ]
     },
     "metadata": {},
     "output_type": "display_data"
    },
    {
     "data": {
      "image/png": "[encoded data removed]",
      "text/plain": [
       "<Figure size 432x288 with 1 Axes>"
      ]
     },
     "metadata": {},
     "output_type": "display_data"
    },
    {
     "data": {
      "image/png": "[encoded data removed]",
      "text/plain": [
       "<Figure size 432x288 with 1 Axes>"
      ]
     },
     "metadata": {},
     "output_type": "display_data"
    },
    {
     "data": {
      "image/png": "[encoded data removed]",
      "text/plain": [
       "<Figure size 432x288 with 1 Axes>"
      ]
     },
     "metadata": {},
     "output_type": "display_data"
    },
    {
     "data": {
      "image/png": "[encoded data removed]",
      "text/plain": [
       "<Figure size 432x288 with 1 Axes>"
      ]
     },
     "metadata": {},
     "output_type": "display_data"
    },
    {
     "data": {
      "image/png": "[encoded data removed]",
      "text/plain": [
       "<Figure size 432x288 with 1 Axes>"
      ]
     },
     "metadata": {},
     "output_type": "display_data"
    },
    {
     "data": {
      "image/png": "[encoded data removed]",
      "text/plain": [
       "<Figure size 432x288 with 1 Axes>"
      ]
     },
     "metadata": {},
     "output_type": "display_data"
    },
    {
     "data": {
      "image/png": "[encoded data removed]",
      "text/plain": [
       "<Figure size 432x288 with 1 Axes>"
      ]
     },
     "metadata": {},
     "output_type": "display_data"
    },
    {
     "data": {
      "image/png": "[encoded data removed]",
      "text/plain": [
       "<Figure size 432x288 with 1 Axes>"
      ]
     },
     "metadata": {},
     "output_type": "display_data"
    },
    {
     "data": {
      "image/png": "[encoded data removed]",
      "text/plain": [
       "<Figure size 432x288 with 1 Axes>"
      ]
     },
     "metadata": {},
     "output_type": "display_data"
    },
    {
     "data": {
      "image/png": "[encoded data removed]",
      "text/plain": [
       "<Figure size 432x288 with 1 Axes>"
      ]
     },
     "metadata": {},
     "output_type": "display_data"
    }
   ],
   "source": [
    "# group data by year and permit_applicant, count number of applications\n",
    "df_grouped = big_builder_df.groupby(['year', 'PERMIT_APPLICANT']).size().reset_index(name='count')\n",
    "\n",
    "# loop through each year, find top 5 permit_applicants, and plot pie chart\n",
    "for year in df_grouped['year'].unique():\n",
    "    df_year = df_grouped[df_grouped['year'] == year]\n",
    "    df_top5 = df_year.nlargest(5, 'count')\n",
    "    fig, ax = plt.subplots()\n",
    "    ax.pie(df_top5['count'], labels=df_top5['PERMIT_APPLICANT'], autopct='%1.1f%%')\n",
    "    ax.set_title(f'Top 5 Permit Applicants in {year}')\n",
    "    plt.show()"
   ]
  },
  {
   "cell_type": "markdown",
   "id": "9da27ccc",
   "metadata": {},
   "source": [
    "##### \"KIM MITCHELL CDKM CONSUL\" takes whole year of bussines in 2016, let's track what the kind of business the company did from 2013 to 2017"
   ]
  },
  {
   "cell_type": "code",
   "execution_count": 51,
   "id": "b439ba8e",
   "metadata": {},
   "outputs": [
    {
     "data": {
      "image/png": "[encoded data removed]",
      "text/plain": [
       "<Figure size 720x432 with 1 Axes>"
      ]
     },
     "metadata": {
      "needs_background": "light"
     },
     "output_type": "display_data"
    }
   ],
   "source": [
    "# filter data to only include rows where permit_applicant is \"Applicant A\" and year is between 2013 and 2017\n",
    "df_filtered = big_builder_df.loc[(big_builder_df['PERMIT_APPLICANT'] == 'KIM MITCHELL  CDKM CONSUL') & (big_builder_df['year'] >= 2013) & (big_builder_df['year'] <= 2017)]\n",
    "# df_filtered\n",
    "# group data by year and permit_subtype and count the number of occurrences\n",
    "df_grouped = df_filtered.groupby(['year', 'PERMIT_SUBTYPE_NAME']).size().reset_index(name='count')\n",
    "\n",
    "# pivot the data to create a stacked bar graph\n",
    "df_pivot = df_grouped.pivot(index='year', columns='PERMIT_SUBTYPE_NAME', values='count')\n",
    "\n",
    "# plot the stacked bar graph\n",
    "ax = df_pivot.plot(kind='bar', stacked=True, figsize=(10, 6))\n",
    "\n",
    "# set the chart title and axis labels\n",
    "ax.set_title(\"KIM MITCHELL CDKM CONSUL's Permit Subtype by Year\")\n",
    "ax.set_xlabel(\"Year\")\n",
    "ax.set_ylabel(\"Count\")\n",
    "\n",
    "# show the plot\n",
    "plt.show()"
   ]
  },
  {
   "cell_type": "markdown",
   "id": "fc45f8fc",
   "metadata": {},
   "source": [
    "## Find the KIM MITCHELL CDKM CONSUL's construction ward by year"
   ]
  },
  {
   "cell_type": "code",
   "execution_count": 52,
   "id": "1259749e",
   "metadata": {},
   "outputs": [
    {
     "data": {
      "image/png": "[encoded data removed]",
      "text/plain": [
       "<Figure size 720x432 with 1 Axes>"
      ]
     },
     "metadata": {
      "needs_background": "light"
     },
     "output_type": "display_data"
    }
   ],
   "source": [
    "\n",
    "# filter data to only include rows where permit_applicant is \"Applicant A\"\n",
    "df_f = big_builder_df.loc[(big_builder_df['PERMIT_APPLICANT'] == 'KIM MITCHELL  CDKM CONSUL')]\n",
    "\n",
    "# group data by year, ward, and permit_subtype and count the number of occurrences\n",
    "df_grouped = df_f.groupby(['year', 'WARD', 'PERMIT_APPLICANT']).size().reset_index(name='count')\n",
    "\n",
    "# pivot the data to create a stacked bar graph\n",
    "df_pivot = df_grouped.pivot(index='year', columns='WARD', values='count')\n",
    "\n",
    "# plot the stacked bar graph\n",
    "ax = df_pivot.plot(kind='bar', stacked=True, figsize=(10, 6))\n",
    "\n",
    "# set the chart title and axis labels\n",
    "ax.set_title(\"KIM MITCHELL  CDKM CONSUL's Construction by Ward and Year\")\n",
    "ax.set_xlabel(\"Year\")\n",
    "ax.set_ylabel(\"Count\")\n",
    "\n",
    "# show the plot\n",
    "plt.show()\n"
   ]
  },
  {
   "cell_type": "markdown",
   "id": "208ea04e",
   "metadata": {},
   "source": [
    "# Discussion \n",
    "\n",
    "One thing we see is that new building permits roughly triple the amount of addition permits awarded. It’s clear that most builders would rather reuse the land for a new building than to deal with a large overhaul of an existing structure. This makes sense as additions are usually done by a firm trying to upgrade a facility, which has less demand building a new building in order to accommodate changing demands in office space or retail or housing. \n",
    "\n",
    "Another interesting thing that we see is that wards 5 through 8 have much more development than the first 4 wards. It’s also interesting to note that ward 3 has nearly equal levels of additions as it does new buildings. Wards 1 and 2 have low levels of new development but that is expected giving ward 1’s small size and the fact that ward 2 holds many federal buildings which wont get developed nor need city permits for developments that happen on federal land. Wards 3 and 4 high level of new additions can most likely be contributed to the fact that these wards are largely residential, built upon and used, so new opportunities to develop are less common than the other wards and many more people to request additions to their homes than in other wards. \n",
    "\n",
    "For time trends we see 2 distinct dates. First is that there is a large drop in 2018 across the entire city. We do not have enough general knowledge of the city nor is there anything in our data for us to easily explain this dip in development but the rise of development in 2021 can be explained. Towards mid 2021 the Covid-19 pandemic was at a point where the city was easing back into pre covid environment.  However during Covid, consumer preferences had largely shifted. This meant many places went under during Covid as they couldn’t survive the isolated world and companies and new ideas that would not have been well received pre covid would now be quite profitable.  This meant a lot of vacant spaces for new investors to build, causing more development than in 2020, which still had similar levels of development to 2019 and 2018. \n",
    "\n",
    "Race overall in the city stayed similar for the most part from 2010-2020 with expectation of noticeable increase of White people. Hispanics, Asians, and Latinos also saw a small increase with the Black population having a small decrease. If the trend holds, we would expect to see White people have plurality sometime this decade. Race by ward remained roughly proportionally similar in each ward from 2010-2020 but ward 6 saw a large increase in White people and ward 4 saw a large increase in Black people. \n",
    "\n",
    "Housing increased roughly by the same amount throughout each wards and vacancy rates remained similar. Not much to note other than the obvious that cities grow over time so more houses were built as the city grew.\n",
    "\n",
    "For developers, DFM Development was by far the leader in permits. However they are a consulting firm for developers to quote from their website “Navigate the \"Red Tape\" of Real Estate Development” in DC. This means they aren’t the ones developing, but developers contract them to do the legal paperwork (such as permit requests) for developing so they don’t have to have an in-house team to do this. This would make Fort Lincoln-Gateway Village LLC the largest contractors, but they were created in order to build affordable housing for District of Columbia Public Schools employees by the National Capital Revitalization Corporation, which in turn were created by the US Treasury Department, making them a public corporation created to help the city from federal funds, not a private developer. Fort Totten South LCC seems to fall into this category as well and Kim Mitchell Consulting is a smaller version of DFM Development, meaning nearly all developers are either using a consulting firm to process the legal requirements to develop or are part of a very small group that already has a legal team that does the process in house.\n",
    "\n",
    "\n"
   ]
  },
  {
   "cell_type": "markdown",
   "id": "fb63c7db",
   "metadata": {},
   "source": [
    "# Limitations\n",
    "Our data set is a bit limited. First is time, it only covers from 2012-2022 and not the last few months. Another thing is that it fails to explain the dip in development in 2018, there was no recission during that time and yet it sees a massive drop in development. There could have been new laws or change in the market, but without expertise in those areas is hard to conclude why this happened and even harder to statistically prove any conclusion we come up with. \n",
    "\n",
    "Another thing with the data is that it doesn’t really show developers. Most use consulting firms to do the legal requirements of getting permission to build so we don’t see who is building, just who requested the permit. That doesn’t help us out outside of showing that in DC the building and development sector use external contractors to file permits. Of course if we wanted to see who was actually building then we would need more in depth data which is either not compiled or for the most parts proprietary data from held by the consulting firms themselves. \n"
   ]
  },
  {
   "cell_type": "markdown",
   "id": "b4b78d8d",
   "metadata": {},
   "source": [
    "# Conclusion \n",
    "Overall, we can show that DC is growing as a city. We saw a large increase in development, mainly new buildings from 2010-2017 with a decline in growth in 2019 and a small post pandemic boom in 2021. We also saw that the demographics of the city are creeping towards a White plurality with a percentage increase of non-Black minorities as well. Finally, we are able to show that nearly all developers don’t get requests building permits themselves but actually hire a consulting company that specializes in getting developments their legal requirements. "
   ]
  },
  {
   "cell_type": "code",
   "execution_count": null,
   "id": "a0a7496f",
   "metadata": {},
   "outputs": [],
   "source": []
  },
  {
   "cell_type": "code",
   "execution_count": null,
   "id": "2a6508b9",
   "metadata": {},
   "outputs": [],
   "source": []
  }
 ],
 "metadata": {
  "kernelspec": {
   "display_name": "Python 3 (ipykernel)",
   "language": "python",
   "name": "python3"
  },
  "language_info": {
   "codemirror_mode": {
    "name": "ipython",
    "version": 3
   },
   "file_extension": ".py",
   "mimetype": "text/x-python",
   "name": "python",
   "nbconvert_exporter": "python",
   "pygments_lexer": "ipython3",
   "version": "3.10.2"
  }
 },
 "nbformat": 4,
 "nbformat_minor": 5
}
